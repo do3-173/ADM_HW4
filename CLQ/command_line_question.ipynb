{
 "cells": [
  {
   "cell_type": "markdown",
   "id": "668541ed-a0c7-4d53-9dc4-0e657ff6aeb6",
   "metadata": {},
   "source": [
    "# CLQ"
   ]
  },
  {
   "cell_type": "markdown",
   "id": "47a772ac-ed75-4601-8ca2-67d2deafb1b2",
   "metadata": {},
   "source": [
    "## Q-1\n",
    "- we use 'awk' as a text-processing tool.\n",
    "- -F is the field-separator. we separate the fields by ','\n",
    "- we then, print the 4th column of each row\n",
    "- The output of the awk which are titles, should pipe to 'sort', using '|' operator.\n",
    "- uniq -c counts the occurrences of each unique title\n",
    "- The output of 'uniq -c' (which includes the count and the title) should be piped to 'sort -nr' which sorts numerically (by the count) and reverse the order\n",
    "- '| head -1:' returns the first line of the result."
   ]
  },
  {
   "cell_type": "code",
   "execution_count": null,
   "id": "7c513edb-2df5-45cb-a99e-2ccf3b5d784a",
   "metadata": {},
   "outputs": [],
   "source": [
    "#!/bin/bash\n",
    "\n",
    "#-----------------  Q-1  --------------------\n",
    "\n",
    "echo \"Q-1 Answer: \"\n",
    "\n",
    "file='vodclickstream_uk_movies_03.csv'\n",
    "\n",
    "# Extracting the fourth column ('title') and counting occurrences\n",
    "most_occurred_title=$(awk -F ',' '{print $4}' \"$file\" | sort | uniq -c | sort -nr | head -1)\n",
    "\n",
    "echo \"Most occurred title and its count:\"\n",
    "echo \"$most_occurred_title\""
   ]
  },
  {
   "cell_type": "markdown",
   "id": "8a5d7eb1-362a-48e5-9ffa-fa55e04ed037",
   "metadata": {},
   "source": [
    "## Q-2\n",
    "- split($2, date, /[:-]/): Splits the second column ($2) of the current line into an array named date, using /[:-]/ as the separator.\n",
    "- Then we convert the date and time components to seconds and sum up all these values to get the total time in seconds.\n",
    "- diff += time - prev: Calculates the difference between consecutive rows in seconds and accumulates it in the diff variable.\n",
    "- count++: counts the number of rows.\n",
    "- prev = time: Updates the previous time variable for the next iteration.\n",
    "- Once all codes executed before END, compiler runs the code after END."
   ]
  },
  {
   "cell_type": "code",
   "execution_count": null,
   "id": "0af4e12b-da45-4bd2-859d-d04c2f487135",
   "metadata": {},
   "outputs": [],
   "source": [
    "#-----------------  Q-2  --------------------\n",
    "echo \"Q-2 Answer: \"\n",
    "\n",
    "awk -F ',' 'NR > 1 {\n",
    "    split($2, date, /[:-]/); \n",
    "    time = date[1]*365*24*60*60 + date[2]*30*24*60*60 + date[3]*24*60*60 + date[4]*60*60 + date[5]*60 + date[6]; \n",
    "    diff += time - prev; \n",
    "    count++; \n",
    "    prev = time\n",
    "} \n",
    "END {\n",
    "    avg_diff = diff/count; \n",
    "    hours = int(avg_diff / 3600); \n",
    "    minutes = int((avg_diff % 3600) / 60); \n",
    "    seconds = int(avg_diff % 60); \n",
    "    print \"Average difference:\", diff/count;\n",
    "    print \"Average difference:\", hours \" hours, \" minutes \" minutes, \" seconds \" seconds\";\n",
    "}' vodclickstream_uk_movies_03.csv"
   ]
  },
  {
   "cell_type": "markdown",
   "id": "c5685aaa-94bf-40c9-b88e-847e347e40c1",
   "metadata": {},
   "source": [
    "## Q-3\n",
    "- Read the CSV file\n",
    "- awk -F',' means that he input fields in the file are separated by commas \n",
    "- {sums[$NF]+=$3} creates an array called sums. it sum up the durations ($3) for each unique user_id. ($NF represents the last column). \n",
    "- After END, compiler iterates through the sums array and prints each user_id and its total duration.\n",
    "- Then, Find the user_id with the maximum total duration\n",
    "- sort -nrk2 sorts the output numerically (-n) based on the second column (-k2) in reverse order (-r)\n",
    "- head -n1 selects only the first line"
   ]
  },
  {
   "cell_type": "code",
   "execution_count": null,
   "id": "42dd3f32-da31-40ee-8258-40df4608ed6d",
   "metadata": {},
   "outputs": [],
   "source": [
    "#-----------------  Q-3  --------------------\n",
    "echo \"Q-3 Answer: \"\n",
    "\n",
    "# Read the CSV file and use awk to sum up durations for each user_id\n",
    "result=$(awk -F ',' '{sums[$NF]+=$3} END {for (id in sums) print id, sums[id]}' vodclickstream_uk_movies_03.csv)\n",
    "\n",
    "\n",
    "max_duration=$(echo \"$result\" | sort -nrk2 | head -n1)\n",
    "\n",
    "# Extract user_id and total duration\n",
    "max_user_id=$(echo \"$max_duration\" | awk '{print $1}')\n",
    "total_seconds=$(echo \"$max_duration\" | awk '{print $2}')\n",
    "\n",
    "# Convert total duration to hours, minutes, and seconds\n",
    "hours=$((total_seconds / 3600))\n",
    "minutes=$(( (total_seconds % 3600) / 60 ))\n",
    "seconds=$((total_seconds % 60))\n",
    "\n",
    "echo \"User_id with the most total duration: $max_user_id\"\n",
    "echo \"Total duration: $hours hours, $minutes minutes, $seconds seconds\""
   ]
  },
  {
   "cell_type": "markdown",
   "id": "8fe1d276-6ba1-417f-b91e-89ce575f3c47",
   "metadata": {},
   "source": [
    "### Here is the result of all 3 questions:\n",
    "\n",
    "![](./CLQ-screenshot.png)"
   ]
  },
  {
   "cell_type": "code",
   "execution_count": null,
   "id": "e918e702-5ab5-4dcf-8479-75699290bf80",
   "metadata": {},
   "outputs": [],
   "source": []
  }
 ],
 "metadata": {
  "kernelspec": {
   "display_name": "Python 3 (ipykernel)",
   "language": "python",
   "name": "python3"
  },
  "language_info": {
   "codemirror_mode": {
    "name": "ipython",
    "version": 3
   },
   "file_extension": ".py",
   "mimetype": "text/x-python",
   "name": "python",
   "nbconvert_exporter": "python",
   "pygments_lexer": "ipython3",
   "version": "3.12.0"
  }
 },
 "nbformat": 4,
 "nbformat_minor": 5
}
