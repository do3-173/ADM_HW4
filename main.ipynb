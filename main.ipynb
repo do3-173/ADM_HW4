{
 "cells": [
  {
   "cell_type": "markdown",
   "metadata": {},
   "source": [
    "# Homework 4 - Recommendation systems and clustering everywhere"
   ]
  },
  {
   "cell_type": "markdown",
   "metadata": {},
   "source": [
    "Memebers of the Group 5:\n",
    "- Arman Feili: <armanfeili7@gmail.com>, [GitHub](https://github.com/armanfeili)\n",
    "- Livia Oddi: <oddi.184685@studenti.uniroma1.it>, [GitHub](https://github.com/Livia020799)\n",
    "- Ahmad Saad: <Ahmad.saaddm@gmail.com>, [GitHub](https://github.com/Ahmadsaaddm)\n",
    "- Edo Fejzic: <edo.fejzic@hotmail.com>, [GitHub](https://github.com/do3-173)"
   ]
  },
  {
   "cell_type": "markdown",
   "metadata": {},
   "source": [
    "## 1. Recommendation sytem "
   ]
  },
  {
   "cell_type": "markdown",
   "metadata": {},
   "source": [
    "\n",
    "Implementing a recommendation system is critical for businesses and digital platforms that want to thrive in today's competitive environment. These systems use data-driven personalization to tailor content, products, and services to individual user preferences. The latter improves user engagement, satisfaction, retention, and revenue through increased sales and cross-selling opportunities. In this section, you will attempt to implement a recommendation system by identifying similar users' preferences and recommending movies they watch to the study user. \n",
    "\n",
    "To be more specific, you will implement your version of the [**LSH algorithm**](https://www.learndatasci.com/tutorials/building-recommendation-engine-locality-sensitive-hashing-lsh-python/), which will take as input the user's preferred genre of movies, find the most similar users to this user, and recommend the most watched movies by those who are more similar to the user. \n",
    "\n",
    "__Data__: The data you will be working with can be found [here](https://www.kaggle.com/datasets/vodclickstream/netflix-audience-behaviour-uk-movies).\n",
    "\n",
    "Looking at the data, you can see that there is data available for each user for the movies the user <ins>clicked on</ins>. Gather the __title and genre__ of the __maximum top 10 movies__ that each user clicked on regarding the __number of clicks__.\n",
    "\n",
    "### 1.2 Minhash Signatures \n",
    "Using the movie genre and user_ids, try to implement your min-hash signatures so that users with similar interests in a genre appear in the same bucket. \n",
    "\n",
    "__Important note:__ You must write your minhash function from scratch.  You are not permitted to use any already implemented hash functions.  Read the class materials and, if necessary, conduct an internet search.  The description of hash functions in the [book](http://infolab.stanford.edu/~ullman/mmds/ch3n.pdf) may be helpful as a reference.\n",
    "\n",
    "### 1.3 Locality-Sensitive Hashing (LSH)\n",
    "\n",
    "Now that your buckets are ready, it's time to ask a few queries. We will provide you with some user_ids and ask you to recommend at __most five movies__ to the user to watch based on the movies clicked by similar users. \n",
    "\n",
    "To recommend at most five movies given a user_id, use the following procedure: \n",
    "\n",
    "1. Identify the <ins>two most similar</ins> users to this user.\n",
    "2. If these two users have any movies __in common__, recommend those movies based on the total number of clicks by these users.\n",
    "3. If there are __no more common__ movies, try to propose the most clicked movies by the __most similar user first__, followed by the other user. \n",
    "\n",
    "__Note:__ At the end of the process, we expect to see at most five movies recommended to the user.\n",
    "\n",
    "__Example:__ assume you've identified user __A__ and __B__ as the most similar users to a single user, and we have the following records on these users: \n",
    "\n",
    "- User A with 80% similarity\n",
    "- User B with 50% similarity\n",
    "  \n",
    "|user|movie title|#clicks|\n",
    "|---|---|---|\n",
    "|A|Wild Child|20|\n",
    "|A|Innocence|10|\n",
    "|A|Coin Heist|2|\n",
    "|B|Innocence|30|\n",
    "|B|Coin Heist|15|\n",
    "|B|Before I Fall|30|\n",
    "|B|Beyond Skyline|8|\n",
    "|B|The Amazing Spider-Man|5|\n",
    "\n",
    "- __Recommended movies__ in order:\n",
    "    - Innocence\n",
    "    - Coin Heist\n",
    "    - Wild Child\n",
    "    - Before I Fall\n",
    "    - Beyond Skyline"
   ]
  },
  {
   "cell_type": "code",
   "execution_count": null,
   "metadata": {},
   "outputs": [],
   "source": [
    "# Libraries\n",
    "\n",
    "from tqdm import tqdm\n",
    "import pandas as pd\n",
    "import numpy as np\n",
    "import random"
   ]
  },
  {
   "cell_type": "code",
   "execution_count": null,
   "metadata": {},
   "outputs": [],
   "source": [
    "# Reading the initial dataframe\n",
    "netflix_df = pd.read_csv(r'C:\\Users\\ahmad\\Desktop\\sap\\adm\\HW4\\archive (1)\\vodclickstream_uk_movies_03.csv')\n"
   ]
  },
  {
   "cell_type": "code",
   "execution_count": null,
   "metadata": {},
   "outputs": [],
   "source": [
    "# a copy of the dataframe so i dont overwrite\n",
    "succ_movies = netflix_df.copy()\n",
    "succ_movies.drop(['movie_id', 'release_date','datetime'], axis = 1)\n",
    "succ_movies = succ_movies.sort_values([\"user_id\", \"movie_id\", \"datetime\", \"duration\"])\n"
   ]
  },
  {
   "cell_type": "code",
   "execution_count": null,
   "metadata": {},
   "outputs": [],
   "source": [
    "# calculating number of clicks for every user for every movie\n",
    "#RQ 1,1\n",
    "user_movie_clicks = succ_movies.groupby(['user_id', 'movie_id', 'title','genres']).size().reset_index(name='clicks')\n"
   ]
  },
  {
   "cell_type": "code",
   "execution_count": null,
   "metadata": {},
   "outputs": [],
   "source": [
    "#Filtering the top movies per user for genres column, to perform hashing\n",
    "import re\n",
    "top_movies_per_user = user_movie_clicks.sort_values('clicks', ascending=False).groupby('user_id').head(10)\n",
    "\n",
    "top_movies_per_user.sort_values(by = ['user_id','clicks'], ascending = False)\n",
    "top_movies_per_user['filtered_genres'] = top_movies_per_user['genres'].apply(lambda x: re.sub(r'[^\\w\\s]', '', x.lower()))\n",
    "\n",
    "top_movies_per_user.drop_duplicates(subset='user_id', keep='first', inplace=True)\n",
    "\n"
   ]
  },
  {
   "cell_type": "code",
   "execution_count": null,
   "metadata": {},
   "outputs": [],
   "source": [
    "def hashing(nums, a=31):\n",
    "    hash_val = 0\n",
    "    \n",
    "    for num in nums:\n",
    "        \n",
    "        for char in str(num):\n",
    "            #  'hash_val * a' scales the current hash\n",
    "            # ord converts string into ascii value\n",
    "            hash_val = (hash_val * a + ord(char)) \n",
    "    return hash_val\n"
   ]
  },
  {
   "cell_type": "code",
   "execution_count": null,
   "metadata": {},
   "outputs": [],
   "source": [
    "#considering the single genre itself as a shingle, sufficient enough for our engine\n",
    "top_movies_per_user['shingles'] = top_movies_per_user['filtered_genres'].str.split()\n"
   ]
  },
  {
   "cell_type": "code",
   "execution_count": null,
   "metadata": {},
   "outputs": [],
   "source": [
    "#creating a list of unique genres from our dataframe\n",
    "genres_list = top_movies_per_user['filtered_genres'].to_list()\n",
    "genres_set = set()\n",
    "\n",
    "for gl in genres_list:\n",
    "    genres = gl.split()\n",
    "    genres_set.update(genres)\n",
    "\n",
    "genres_set = list(genres_set)\n",
    "    "
   ]
  },
  {
   "cell_type": "code",
   "execution_count": null,
   "metadata": {},
   "outputs": [
    {
     "name": "stderr",
     "output_type": "stream",
     "text": [
      "Filling Signature Matrix: 100%|██████████| 161918/161918 [00:19<00:00, 8490.47it/s]\n"
     ]
    }
   ],
   "source": [
    "\n",
    "#creating a unique list of user ids\n",
    "\n",
    "unique_users_list = top_movies_per_user['user_id'].unique().tolist()\n",
    "\n",
    "#Initializing our characteristic matrix with zeros\n",
    "char_matrix = pd.DataFrame(0, index=unique_users_list, columns=list(genres_set))\n",
    "\n",
    "#the column indexes will be genres and for the rows it will be the user ids\n",
    "#putting 1 where we have a user with a  certain genre\n",
    "for index, row in tqdm(top_movies_per_user.iterrows(), total=len(top_movies_per_user), desc=\"Filling Signature Matrix\"):\n",
    "    user_id = row['user_id']\n",
    "    genres = row['filtered_genres'].split()\n",
    "    \n",
    "    for genre in genres:\n",
    "        value_to_set = 1\n",
    "        char_matrix.at[user_id, genre] = value_to_set"
   ]
  },
  {
   "cell_type": "markdown",
   "metadata": {},
   "source": [
    "After creating our characteristic matrix we have to create our signature matrix using minhashing."
   ]
  },
  {
   "cell_type": "code",
   "execution_count": null,
   "metadata": {},
   "outputs": [],
   "source": [
    "#Creating a minhash function to perform it on our characteristic matrix\n",
    "def min_hashing(char_matrix, hashing, num_hashes):\n",
    "    # initialize the signature matrix with infinity\n",
    "    signature_matrix = pd.DataFrame(np.inf, index=char_matrix.index, columns=range(num_hashes))\n",
    "\n",
    "    # For each hash function, compute the min hash across all genres for each user\n",
    "    for user in tqdm(char_matrix.index, desc=\"Computing MinHash for each user\"):\n",
    "        for i in range(num_hashes):\n",
    "            #computing the minimum hash value for the user and current hash function \n",
    "            #if the user has a mark for 1 in the characteristic matrix, calculate hash and track minimum\n",
    "            min_hash = min([hashing(genre) * (i + 1) % 1000000 for genre in char_matrix.columns if char_matrix.at[user, genre] == 1])\n",
    "            #we have to ensure a unique hash for every function \n",
    "            signature_matrix.at[user, i] = min_hash\n",
    "            #update minimum hash value for this user and hash function \n",
    "    return signature_matrix\n"
   ]
  },
  {
   "cell_type": "code",
   "execution_count": null,
   "metadata": {},
   "outputs": [
    {
     "name": "stderr",
     "output_type": "stream",
     "text": [
      "Computing MinHash for each user: 100%|██████████| 161918/161918 [12:20<00:00, 218.77it/s]\n"
     ]
    }
   ],
   "source": [
    "num_hashes = 30  #arbitrary number of hashes\n",
    "signature_matrix = min_hashing(char_matrix, hashing,num_hashes)\n"
   ]
  },
  {
   "cell_type": "code",
   "execution_count": null,
   "metadata": {},
   "outputs": [
    {
     "data": {
      "text/html": [
       "<div>\n",
       "<style scoped>\n",
       "    .dataframe tbody tr th:only-of-type {\n",
       "        vertical-align: middle;\n",
       "    }\n",
       "\n",
       "    .dataframe tbody tr th {\n",
       "        vertical-align: top;\n",
       "    }\n",
       "\n",
       "    .dataframe thead th {\n",
       "        text-align: right;\n",
       "    }\n",
       "</style>\n",
       "<table border=\"1\" class=\"dataframe\">\n",
       "  <thead>\n",
       "    <tr style=\"text-align: right;\">\n",
       "      <th></th>\n",
       "      <th>0</th>\n",
       "      <th>1</th>\n",
       "      <th>2</th>\n",
       "      <th>3</th>\n",
       "      <th>4</th>\n",
       "      <th>5</th>\n",
       "      <th>6</th>\n",
       "      <th>7</th>\n",
       "      <th>8</th>\n",
       "      <th>9</th>\n",
       "      <th>...</th>\n",
       "      <th>20</th>\n",
       "      <th>21</th>\n",
       "      <th>22</th>\n",
       "      <th>23</th>\n",
       "      <th>24</th>\n",
       "      <th>25</th>\n",
       "      <th>26</th>\n",
       "      <th>27</th>\n",
       "      <th>28</th>\n",
       "      <th>29</th>\n",
       "    </tr>\n",
       "  </thead>\n",
       "  <tbody>\n",
       "    <tr>\n",
       "      <th>7cdfd0e14a</th>\n",
       "      <td>543078.0</td>\n",
       "      <td>86156.0</td>\n",
       "      <td>534901.0</td>\n",
       "      <td>172312.0</td>\n",
       "      <td>224835.0</td>\n",
       "      <td>69802.0</td>\n",
       "      <td>424537.0</td>\n",
       "      <td>342328.0</td>\n",
       "      <td>260119.0</td>\n",
       "      <td>177910.0</td>\n",
       "      <td>...</td>\n",
       "      <td>273611.0</td>\n",
       "      <td>191402.0</td>\n",
       "      <td>109193.0</td>\n",
       "      <td>26984.0</td>\n",
       "      <td>124175.0</td>\n",
       "      <td>120028.0</td>\n",
       "      <td>663106.0</td>\n",
       "      <td>206184.0</td>\n",
       "      <td>504043.0</td>\n",
       "      <td>292340.0</td>\n",
       "    </tr>\n",
       "    <tr>\n",
       "      <th>23c52f9b50</th>\n",
       "      <td>144281.0</td>\n",
       "      <td>86156.0</td>\n",
       "      <td>432843.0</td>\n",
       "      <td>172312.0</td>\n",
       "      <td>715390.0</td>\n",
       "      <td>83744.0</td>\n",
       "      <td>9967.0</td>\n",
       "      <td>154248.0</td>\n",
       "      <td>298529.0</td>\n",
       "      <td>430780.0</td>\n",
       "      <td>...</td>\n",
       "      <td>29901.0</td>\n",
       "      <td>174182.0</td>\n",
       "      <td>154352.0</td>\n",
       "      <td>33872.0</td>\n",
       "      <td>515600.0</td>\n",
       "      <td>120028.0</td>\n",
       "      <td>663106.0</td>\n",
       "      <td>39868.0</td>\n",
       "      <td>184149.0</td>\n",
       "      <td>292340.0</td>\n",
       "    </tr>\n",
       "    <tr>\n",
       "      <th>59416738c3</th>\n",
       "      <td>144281.0</td>\n",
       "      <td>288562.0</td>\n",
       "      <td>432843.0</td>\n",
       "      <td>577124.0</td>\n",
       "      <td>588955.0</td>\n",
       "      <td>506746.0</td>\n",
       "      <td>9967.0</td>\n",
       "      <td>154248.0</td>\n",
       "      <td>260119.0</td>\n",
       "      <td>177910.0</td>\n",
       "      <td>...</td>\n",
       "      <td>29901.0</td>\n",
       "      <td>174182.0</td>\n",
       "      <td>109193.0</td>\n",
       "      <td>26984.0</td>\n",
       "      <td>607025.0</td>\n",
       "      <td>751306.0</td>\n",
       "      <td>780357.0</td>\n",
       "      <td>39868.0</td>\n",
       "      <td>184149.0</td>\n",
       "      <td>328430.0</td>\n",
       "    </tr>\n",
       "    <tr>\n",
       "      <th>e06f0be797</th>\n",
       "      <td>16438.0</td>\n",
       "      <td>32876.0</td>\n",
       "      <td>49314.0</td>\n",
       "      <td>65752.0</td>\n",
       "      <td>82190.0</td>\n",
       "      <td>98628.0</td>\n",
       "      <td>9967.0</td>\n",
       "      <td>96640.0</td>\n",
       "      <td>147942.0</td>\n",
       "      <td>164380.0</td>\n",
       "      <td>...</td>\n",
       "      <td>29901.0</td>\n",
       "      <td>15760.0</td>\n",
       "      <td>318463.0</td>\n",
       "      <td>289920.0</td>\n",
       "      <td>228450.0</td>\n",
       "      <td>157588.0</td>\n",
       "      <td>86726.0</td>\n",
       "      <td>15864.0</td>\n",
       "      <td>184149.0</td>\n",
       "      <td>112400.0</td>\n",
       "    </tr>\n",
       "    <tr>\n",
       "      <th>49d091aa63</th>\n",
       "      <td>144281.0</td>\n",
       "      <td>288562.0</td>\n",
       "      <td>432843.0</td>\n",
       "      <td>577124.0</td>\n",
       "      <td>259140.0</td>\n",
       "      <td>506746.0</td>\n",
       "      <td>9967.0</td>\n",
       "      <td>154248.0</td>\n",
       "      <td>260119.0</td>\n",
       "      <td>177910.0</td>\n",
       "      <td>...</td>\n",
       "      <td>29901.0</td>\n",
       "      <td>174182.0</td>\n",
       "      <td>109193.0</td>\n",
       "      <td>26984.0</td>\n",
       "      <td>295700.0</td>\n",
       "      <td>751306.0</td>\n",
       "      <td>599356.0</td>\n",
       "      <td>39868.0</td>\n",
       "      <td>184149.0</td>\n",
       "      <td>328430.0</td>\n",
       "    </tr>\n",
       "    <tr>\n",
       "      <th>...</th>\n",
       "      <td>...</td>\n",
       "      <td>...</td>\n",
       "      <td>...</td>\n",
       "      <td>...</td>\n",
       "      <td>...</td>\n",
       "      <td>...</td>\n",
       "      <td>...</td>\n",
       "      <td>...</td>\n",
       "      <td>...</td>\n",
       "      <td>...</td>\n",
       "      <td>...</td>\n",
       "      <td>...</td>\n",
       "      <td>...</td>\n",
       "      <td>...</td>\n",
       "      <td>...</td>\n",
       "      <td>...</td>\n",
       "      <td>...</td>\n",
       "      <td>...</td>\n",
       "      <td>...</td>\n",
       "      <td>...</td>\n",
       "      <td>...</td>\n",
       "    </tr>\n",
       "    <tr>\n",
       "      <th>5fdd93fc0c</th>\n",
       "      <td>180624.0</td>\n",
       "      <td>274160.0</td>\n",
       "      <td>534901.0</td>\n",
       "      <td>379868.0</td>\n",
       "      <td>185400.0</td>\n",
       "      <td>69802.0</td>\n",
       "      <td>264368.0</td>\n",
       "      <td>96640.0</td>\n",
       "      <td>260119.0</td>\n",
       "      <td>177910.0</td>\n",
       "      <td>...</td>\n",
       "      <td>273611.0</td>\n",
       "      <td>15760.0</td>\n",
       "      <td>109193.0</td>\n",
       "      <td>26984.0</td>\n",
       "      <td>124175.0</td>\n",
       "      <td>564080.0</td>\n",
       "      <td>201160.0</td>\n",
       "      <td>57472.0</td>\n",
       "      <td>238096.0</td>\n",
       "      <td>112400.0</td>\n",
       "    </tr>\n",
       "    <tr>\n",
       "      <th>5fdd462bd5</th>\n",
       "      <td>637080.0</td>\n",
       "      <td>274160.0</td>\n",
       "      <td>534901.0</td>\n",
       "      <td>379868.0</td>\n",
       "      <td>185400.0</td>\n",
       "      <td>69802.0</td>\n",
       "      <td>424537.0</td>\n",
       "      <td>96640.0</td>\n",
       "      <td>260119.0</td>\n",
       "      <td>177910.0</td>\n",
       "      <td>...</td>\n",
       "      <td>273611.0</td>\n",
       "      <td>15760.0</td>\n",
       "      <td>109193.0</td>\n",
       "      <td>26984.0</td>\n",
       "      <td>124175.0</td>\n",
       "      <td>564080.0</td>\n",
       "      <td>201160.0</td>\n",
       "      <td>659076.0</td>\n",
       "      <td>475320.0</td>\n",
       "      <td>112400.0</td>\n",
       "    </tr>\n",
       "    <tr>\n",
       "      <th>5fdc850e43</th>\n",
       "      <td>106532.0</td>\n",
       "      <td>86156.0</td>\n",
       "      <td>319596.0</td>\n",
       "      <td>172312.0</td>\n",
       "      <td>224835.0</td>\n",
       "      <td>69802.0</td>\n",
       "      <td>424537.0</td>\n",
       "      <td>342328.0</td>\n",
       "      <td>260119.0</td>\n",
       "      <td>65320.0</td>\n",
       "      <td>...</td>\n",
       "      <td>237172.0</td>\n",
       "      <td>191402.0</td>\n",
       "      <td>109193.0</td>\n",
       "      <td>26984.0</td>\n",
       "      <td>124175.0</td>\n",
       "      <td>120028.0</td>\n",
       "      <td>663106.0</td>\n",
       "      <td>206184.0</td>\n",
       "      <td>89428.0</td>\n",
       "      <td>195960.0</td>\n",
       "    </tr>\n",
       "    <tr>\n",
       "      <th>5fdc7f6d2f</th>\n",
       "      <td>258396.0</td>\n",
       "      <td>274160.0</td>\n",
       "      <td>355454.0</td>\n",
       "      <td>33584.0</td>\n",
       "      <td>185400.0</td>\n",
       "      <td>69802.0</td>\n",
       "      <td>162726.0</td>\n",
       "      <td>67168.0</td>\n",
       "      <td>66362.0</td>\n",
       "      <td>370800.0</td>\n",
       "      <td>...</td>\n",
       "      <td>378680.0</td>\n",
       "      <td>15760.0</td>\n",
       "      <td>391814.0</td>\n",
       "      <td>201504.0</td>\n",
       "      <td>124175.0</td>\n",
       "      <td>564080.0</td>\n",
       "      <td>199086.0</td>\n",
       "      <td>235088.0</td>\n",
       "      <td>102722.0</td>\n",
       "      <td>112400.0</td>\n",
       "    </tr>\n",
       "    <tr>\n",
       "      <th>ffffd36adf</th>\n",
       "      <td>844967.0</td>\n",
       "      <td>689934.0</td>\n",
       "      <td>534901.0</td>\n",
       "      <td>379868.0</td>\n",
       "      <td>224835.0</td>\n",
       "      <td>69802.0</td>\n",
       "      <td>503966.0</td>\n",
       "      <td>433104.0</td>\n",
       "      <td>362242.0</td>\n",
       "      <td>291380.0</td>\n",
       "      <td>...</td>\n",
       "      <td>511898.0</td>\n",
       "      <td>441036.0</td>\n",
       "      <td>370174.0</td>\n",
       "      <td>279208.0</td>\n",
       "      <td>124175.0</td>\n",
       "      <td>157588.0</td>\n",
       "      <td>86726.0</td>\n",
       "      <td>15864.0</td>\n",
       "      <td>504043.0</td>\n",
       "      <td>349010.0</td>\n",
       "    </tr>\n",
       "  </tbody>\n",
       "</table>\n",
       "<p>161918 rows × 30 columns</p>\n",
       "</div>"
      ],
      "text/plain": [
       "                  0         1         2         3         4         5   \\\n",
       "7cdfd0e14a  543078.0   86156.0  534901.0  172312.0  224835.0   69802.0   \n",
       "23c52f9b50  144281.0   86156.0  432843.0  172312.0  715390.0   83744.0   \n",
       "59416738c3  144281.0  288562.0  432843.0  577124.0  588955.0  506746.0   \n",
       "e06f0be797   16438.0   32876.0   49314.0   65752.0   82190.0   98628.0   \n",
       "49d091aa63  144281.0  288562.0  432843.0  577124.0  259140.0  506746.0   \n",
       "...              ...       ...       ...       ...       ...       ...   \n",
       "5fdd93fc0c  180624.0  274160.0  534901.0  379868.0  185400.0   69802.0   \n",
       "5fdd462bd5  637080.0  274160.0  534901.0  379868.0  185400.0   69802.0   \n",
       "5fdc850e43  106532.0   86156.0  319596.0  172312.0  224835.0   69802.0   \n",
       "5fdc7f6d2f  258396.0  274160.0  355454.0   33584.0  185400.0   69802.0   \n",
       "ffffd36adf  844967.0  689934.0  534901.0  379868.0  224835.0   69802.0   \n",
       "\n",
       "                  6         7         8         9   ...        20        21  \\\n",
       "7cdfd0e14a  424537.0  342328.0  260119.0  177910.0  ...  273611.0  191402.0   \n",
       "23c52f9b50    9967.0  154248.0  298529.0  430780.0  ...   29901.0  174182.0   \n",
       "59416738c3    9967.0  154248.0  260119.0  177910.0  ...   29901.0  174182.0   \n",
       "e06f0be797    9967.0   96640.0  147942.0  164380.0  ...   29901.0   15760.0   \n",
       "49d091aa63    9967.0  154248.0  260119.0  177910.0  ...   29901.0  174182.0   \n",
       "...              ...       ...       ...       ...  ...       ...       ...   \n",
       "5fdd93fc0c  264368.0   96640.0  260119.0  177910.0  ...  273611.0   15760.0   \n",
       "5fdd462bd5  424537.0   96640.0  260119.0  177910.0  ...  273611.0   15760.0   \n",
       "5fdc850e43  424537.0  342328.0  260119.0   65320.0  ...  237172.0  191402.0   \n",
       "5fdc7f6d2f  162726.0   67168.0   66362.0  370800.0  ...  378680.0   15760.0   \n",
       "ffffd36adf  503966.0  433104.0  362242.0  291380.0  ...  511898.0  441036.0   \n",
       "\n",
       "                  22        23        24        25        26        27  \\\n",
       "7cdfd0e14a  109193.0   26984.0  124175.0  120028.0  663106.0  206184.0   \n",
       "23c52f9b50  154352.0   33872.0  515600.0  120028.0  663106.0   39868.0   \n",
       "59416738c3  109193.0   26984.0  607025.0  751306.0  780357.0   39868.0   \n",
       "e06f0be797  318463.0  289920.0  228450.0  157588.0   86726.0   15864.0   \n",
       "49d091aa63  109193.0   26984.0  295700.0  751306.0  599356.0   39868.0   \n",
       "...              ...       ...       ...       ...       ...       ...   \n",
       "5fdd93fc0c  109193.0   26984.0  124175.0  564080.0  201160.0   57472.0   \n",
       "5fdd462bd5  109193.0   26984.0  124175.0  564080.0  201160.0  659076.0   \n",
       "5fdc850e43  109193.0   26984.0  124175.0  120028.0  663106.0  206184.0   \n",
       "5fdc7f6d2f  391814.0  201504.0  124175.0  564080.0  199086.0  235088.0   \n",
       "ffffd36adf  370174.0  279208.0  124175.0  157588.0   86726.0   15864.0   \n",
       "\n",
       "                  28        29  \n",
       "7cdfd0e14a  504043.0  292340.0  \n",
       "23c52f9b50  184149.0  292340.0  \n",
       "59416738c3  184149.0  328430.0  \n",
       "e06f0be797  184149.0  112400.0  \n",
       "49d091aa63  184149.0  328430.0  \n",
       "...              ...       ...  \n",
       "5fdd93fc0c  238096.0  112400.0  \n",
       "5fdd462bd5  475320.0  112400.0  \n",
       "5fdc850e43   89428.0  195960.0  \n",
       "5fdc7f6d2f  102722.0  112400.0  \n",
       "ffffd36adf  504043.0  349010.0  \n",
       "\n",
       "[161918 rows x 30 columns]"
      ]
     },
     "metadata": {},
     "output_type": "display_data"
    }
   ],
   "source": [
    "signature_matrix\n",
    "#column  indicates hash function index "
   ]
  },
  {
   "cell_type": "code",
   "execution_count": null,
   "metadata": {},
   "outputs": [],
   "source": [
    "def divide_into_bands(signature_matrix, bands):\n",
    "    rows_per_band = signature_matrix.shape[1] // bands\n",
    "    # calculating the number of rows per band\n",
    "    #returning a list to store each band\n",
    "   \n",
    "    #we will be slicing horizontally\n",
    "    return [signature_matrix.iloc[:, i:i + rows_per_band] for i in range(0, signature_matrix.shape[1], rows_per_band)]\n",
    " #stepping by the number of rows per band\n",
    "\n",
    "bands = divide_into_bands(signature_matrix, bands=10)"
   ]
  },
  {
   "cell_type": "code",
   "execution_count": null,
   "metadata": {},
   "outputs": [],
   "source": [
    "def hash_band(band):\n",
    "    #converting every row into a tuple \n",
    "    return band.apply(lambda x: hashing(tuple(x)), axis=1)\n",
    "\n",
    "buckets = [hash_band(band) for band in bands]"
   ]
  },
  {
   "cell_type": "code",
   "execution_count": null,
   "metadata": {},
   "outputs": [],
   "source": [
    "def create_and_process_buckets(bands, hashing):\n",
    "    final_buckets = {}\n",
    "    for band in bands:\n",
    "        band_hashes = hash_band(band)\n",
    "        #hashing every band\n",
    "        for index, hash_value in band_hashes.items():\n",
    "            #check if the hash value already exists in the bucket\n",
    "            if hash_value not in final_buckets:\n",
    "                \n",
    "                final_buckets[hash_value] = set()\n",
    "                #add current index into the set of indixes corresponding to said hash value \n",
    "            final_buckets[hash_value].add(index)\n",
    "    return final_buckets\n"
   ]
  },
  {
   "cell_type": "code",
   "execution_count": null,
   "metadata": {},
   "outputs": [],
   "source": [
    "all_buckets = create_and_process_buckets(bands, hashing)"
   ]
  },
  {
   "cell_type": "code",
   "execution_count": null,
   "metadata": {},
   "outputs": [
    {
     "data": {
      "text/plain": [
       "['d723737981', '0561f5afd1']"
      ]
     },
     "metadata": {},
     "output_type": "display_data"
    }
   ],
   "source": [
    "def similar_users(all_buckets, user_id):\n",
    "    similar_users = {}\n",
    "    total_bucket_counts = {}\n",
    "\n",
    "    #  count the total buckets for each user and find buckets containing the given user\n",
    "    for bucket in all_buckets.values():\n",
    "        for user in bucket:\n",
    "            total_bucket_counts[user] = total_bucket_counts.get(user, 0) + 1\n",
    "        #check if user id already exists in said bucket \n",
    "        if user_id in bucket:\n",
    "            #Add other users in the same bucket to the similar users dictionary\n",
    "            for other_user in bucket:\n",
    "                if other_user != user_id:\n",
    "                    #to make sure we dont put the same user twice\n",
    "                    if other_user not in similar_users:\n",
    "                        similar_users[other_user] = 0\n",
    "                    similar_users[other_user] += 1\n",
    "\n",
    "    # sort similar users based on frequency and then on total number of buckets it is in\n",
    "    sorted_similar_users = sorted(similar_users.items(), key=lambda x: (-x[1], total_bucket_counts[x[0]]))\n",
    "\n",
    "    # return the top two most similar users\n",
    "    return [user[0] for user in sorted_similar_users[:2]]\n",
    "    #similarity is based on their coexistence in the same bucket. if more than 1 hash function has hashed the same users into the same bucket, the users will be similar. the more hash functions that have assigned the users into the similar buckets, the more we will consider them as similar\n",
    "    # if two users have the same similarity score, the function then considers the total number of buckets each user appears in \n",
    "most_similar_users = similar_users(all_buckets, '159dd5e534')\n",
    "most_similar_users"
   ]
  },
  {
   "cell_type": "code",
   "execution_count": null,
   "metadata": {},
   "outputs": [],
   "source": [
    "sim_user1, sim_user2 = most_similar_users"
   ]
  },
  {
   "cell_type": "code",
   "execution_count": null,
   "metadata": {},
   "outputs": [
    {
     "data": {
      "text/html": [
       "<div>\n",
       "<style scoped>\n",
       "    .dataframe tbody tr th:only-of-type {\n",
       "        vertical-align: middle;\n",
       "    }\n",
       "\n",
       "    .dataframe tbody tr th {\n",
       "        vertical-align: top;\n",
       "    }\n",
       "\n",
       "    .dataframe thead th {\n",
       "        text-align: right;\n",
       "    }\n",
       "</style>\n",
       "<table border=\"1\" class=\"dataframe\">\n",
       "  <thead>\n",
       "    <tr style=\"text-align: right;\">\n",
       "      <th></th>\n",
       "      <th>user_id</th>\n",
       "      <th>movie_id</th>\n",
       "      <th>title</th>\n",
       "      <th>genres</th>\n",
       "      <th>clicks</th>\n",
       "    </tr>\n",
       "  </thead>\n",
       "  <tbody>\n",
       "    <tr>\n",
       "      <th>422194</th>\n",
       "      <td>d723737981</td>\n",
       "      <td>6ba9be3429</td>\n",
       "      <td>Apollo 13</td>\n",
       "      <td>Adventure, Drama, History</td>\n",
       "      <td>1</td>\n",
       "    </tr>\n",
       "  </tbody>\n",
       "</table>\n",
       "</div>"
      ],
      "text/plain": [
       "           user_id    movie_id      title                     genres  clicks\n",
       "422194  d723737981  6ba9be3429  Apollo 13  Adventure, Drama, History       1"
      ]
     },
     "metadata": {},
     "output_type": "display_data"
    }
   ],
   "source": [
    "data_u1 = user_movie_clicks[user_movie_clicks['user_id'] == sim_user1]"
   ]
  },
  {
   "cell_type": "code",
   "execution_count": null,
   "metadata": {},
   "outputs": [
    {
     "data": {
      "text/html": [
       "<div>\n",
       "<style scoped>\n",
       "    .dataframe tbody tr th:only-of-type {\n",
       "        vertical-align: middle;\n",
       "    }\n",
       "\n",
       "    .dataframe tbody tr th {\n",
       "        vertical-align: top;\n",
       "    }\n",
       "\n",
       "    .dataframe thead th {\n",
       "        text-align: right;\n",
       "    }\n",
       "</style>\n",
       "<table border=\"1\" class=\"dataframe\">\n",
       "  <thead>\n",
       "    <tr style=\"text-align: right;\">\n",
       "      <th></th>\n",
       "      <th>user_id</th>\n",
       "      <th>movie_id</th>\n",
       "      <th>title</th>\n",
       "      <th>genres</th>\n",
       "      <th>clicks</th>\n",
       "    </tr>\n",
       "  </thead>\n",
       "  <tbody>\n",
       "    <tr>\n",
       "      <th>10211</th>\n",
       "      <td>0561f5afd1</td>\n",
       "      <td>3ad6a1290a</td>\n",
       "      <td>Goodfellas</td>\n",
       "      <td>Biography, Crime, Drama</td>\n",
       "      <td>1</td>\n",
       "    </tr>\n",
       "    <tr>\n",
       "      <th>10212</th>\n",
       "      <td>0561f5afd1</td>\n",
       "      <td>6ba9be3429</td>\n",
       "      <td>Apollo 13</td>\n",
       "      <td>Adventure, Drama, History</td>\n",
       "      <td>2</td>\n",
       "    </tr>\n",
       "  </tbody>\n",
       "</table>\n",
       "</div>"
      ],
      "text/plain": [
       "          user_id    movie_id       title                     genres  clicks\n",
       "10211  0561f5afd1  3ad6a1290a  Goodfellas    Biography, Crime, Drama       1\n",
       "10212  0561f5afd1  6ba9be3429   Apollo 13  Adventure, Drama, History       2"
      ]
     },
     "metadata": {},
     "output_type": "display_data"
    }
   ],
   "source": [
    "data_u2 = user_movie_clicks[user_movie_clicks['user_id'] == sim_user2]\n"
   ]
  },
  {
   "cell_type": "code",
   "execution_count": null,
   "metadata": {},
   "outputs": [
    {
     "name": "stdout",
     "output_type": "stream",
     "text": [
      "{'Goodfellas', 'Apollo 13'}\n"
     ]
    },
    {
     "name": "stderr",
     "output_type": "stream",
     "text": [
      "C:\\Users\\ahmad\\AppData\\Local\\Temp\\ipykernel_15672\\3062258450.py:1: SettingWithCopyWarning: \n",
      "A value is trying to be set on a copy of a slice from a DataFrame.\n",
      "Try using .loc[row_indexer,col_indexer] = value instead\n",
      "\n",
      "See the caveats in the documentation: https://pandas.pydata.org/pandas-docs/stable/user_guide/indexing.html#returning-a-view-versus-a-copy\n",
      "  data_u1['clicks'] = pd.to_numeric(data_u1['clicks'], errors='coerce')\n",
      "C:\\Users\\ahmad\\AppData\\Local\\Temp\\ipykernel_15672\\3062258450.py:2: SettingWithCopyWarning: \n",
      "A value is trying to be set on a copy of a slice from a DataFrame.\n",
      "Try using .loc[row_indexer,col_indexer] = value instead\n",
      "\n",
      "See the caveats in the documentation: https://pandas.pydata.org/pandas-docs/stable/user_guide/indexing.html#returning-a-view-versus-a-copy\n",
      "  data_u2['clicks'] = pd.to_numeric(data_u2['clicks'], errors='coerce')\n"
     ]
    }
   ],
   "source": [
    "data_u1['clicks'] = pd.to_numeric(data_u1['clicks'], errors='coerce')\n",
    "data_u2['clicks'] = pd.to_numeric(data_u2['clicks'], errors='coerce')\n",
    "\n",
    "data_u1 = data_u1.sort_values(by='clicks', ascending=False)\n",
    "data_u2 = data_u2.sort_values(by='clicks', ascending=False)\n",
    "\n",
    "u1_movies = set(data_u1['title'])\n",
    "u2_movies = set(data_u2['title'])\n",
    "\n",
    "common_movies = u1_movies.intersection(u2_movies)\n",
    "top_movie_u1 = data_u1.iloc[0]['title'] if len(data_u1) > 0 else None\n",
    "top_movie_u2 = data_u2.iloc[0]['title'] if len(data_u2) > 0 else None\n",
    "\n",
    "# adjust top movies if they are in common movies\n",
    "if top_movie_u1 in common_movies:\n",
    "    top_movie_u1 = data_u1.iloc[1]['title'] if len(data_u1) > 1 else None\n",
    "if top_movie_u2 in common_movies:\n",
    "    top_movie_u2 = data_u2.iloc[1]['title'] if len(data_u2) > 1 else None\n",
    "\n",
    "# update common movies set\n",
    "common_movies.update([top_movie_u1, top_movie_u2])\n",
    "if None in common_movies:\n",
    "    common_movies.remove(None)\n",
    "print(common_movies)"
   ]
  },
  {
   "cell_type": "markdown",
   "metadata": {},
   "source": [
    "## 3. Bonus Question"
   ]
  },
  {
   "cell_type": "markdown",
   "metadata": {},
   "source": [
    "\n",
    "We remind you that we consider and grade the bonuses only if you complete the entire assignment.\n",
    "\n",
    "[Density-based clustering](https://wires.onlinelibrary.wiley.com/doi/epdf/10.1002/widm.30) identifies clusters as regions in the data space with high point density that are separated from other clusters by regions of low point density. The data points in the separating regions of low point density are typically considered noise or outliers. Typical algorithms that fall into this category are [OPTICS](https://dl.acm.org/doi/pdf/10.1145/304181.304187) and [DBSCAN](https://cdn.aaai.org/KDD/1996/KDD96-037.pdf).\n",
    "\n",
    "1)  Ask ChatGPT (or any other LLM tool) to list three algorithms for Density-Based Clustering. Choose one and use it on the same dataset you used in 2.3. Analyze your results: how different are they from the centroid-based version?\n",
    "\n",
    "__Note__: You can implement your algorithm from scratch or use the one implemented in the scikit-learn library; the choice is up to you!\n"
   ]
  },
  {
   "cell_type": "markdown",
   "metadata": {},
   "source": [
    "### DBSCAN (Density-Based Spatial Clustering of Applications with Noise):\n",
    "DBSCAN is one of the most well-known density-based clustering algorithms. It groups together points that are closely packed together based on two parameters: epsilon (ε) and the minimum number of points (MinPts) within ε distance. It forms clusters by identifying regions of high density separated by regions of low density, effectively handling noise and outliers.\n",
    "\n",
    "### OPTICS (Ordering Points To Identify the Clustering Structure):\n",
    "OPTICS is an extension of DBSCAN that addresses some of its limitations, such as the sensitivity to the choice of ε. Instead of directly forming clusters, OPTICS generates a reachability plot, allowing for a more flexible identification of clusters by considering different densities at varying distances. This approach provides a more detailed view of the clustering structure in the data.\n",
    "\n",
    "### DENCLUE (DENsity-based CLUstEring):\n",
    "DENCLUE is another density-based clustering algorithm that employs a mathematical model based on kernel density estimation. It identifies clusters by analyzing the density distribution of data points. It uses gradient ascent to find the modes of the estimated density function, forming clusters around these modes. DENCLUE can handle clusters of arbitrary shapes and sizes."
   ]
  },
  {
   "cell_type": "markdown",
   "metadata": {},
   "source": [
    "### Applying DBSCAN:\n",
    "**Epsilon (eps):** This parameter defines the radius within which points are considered neighbors. It influences the size of the neighborhood around each point. A larger epsilon means a broader range for considering points as part of the same cluster.\n",
    "\n",
    "**Min_samples:** It specifies the minimum number of points within the epsilon neighborhood of a point for it to be considered a core point. Increasing this value can lead to fewer clusters being formed and more points being classified as noise or outliers.\n",
    "\n",
    "Adjusting eps and min_samples for multiple features requires considering the different scales and distributions of these features.\n",
    "\n",
    "**Normalize the Data:**\n",
    "Given the wide range of values across features, scaling or normalizing the data is crucial for DBSCAN, which relies on distance measures. Use MinMaxScaler or StandardScaler to bring all features within a similar range.\n",
    "\n",
    "**Handling Zero Values:**\n",
    "Zero values might significantly affect distance-based clustering. Depending on your dataset's characteristics and context, you might choose to handle these zero values differently:\n",
    "    Exclude rows with zero values if they significantly impact the clustering.\n",
    "    Apply an appropriate method (like replacing zeros with a different value, imputation, or considering them separately) if they represent meaningful information.\n",
    "\n",
    "**Epsilon (eps) Selection:**\n",
    "For multiple features with varying scales, it's challenging to select a single epsilon value that accommodates all features equally well.\n",
    "Consider feature scaling. Normalize or scale each feature individually before clustering to ensure their contributions are weighted appropriately.\n",
    "\n",
    "**Min_samples Selection:**\n",
    "Similarly, the min_samples parameter might need adjustment based on the density and nature of your data.\n",
    "For a higher-dimensional space with multiple features, a higher min_samples count might be needed to define meaningful clusters."
   ]
  },
  {
   "cell_type": "code",
   "execution_count": null,
   "metadata": {},
   "outputs": [],
   "source": [
    "import pandas as pd\n",
    "from sklearn.cluster import DBSCAN\n",
    "from sklearn.preprocessing import StandardScaler"
   ]
  },
  {
   "cell_type": "code",
   "execution_count": null,
   "metadata": {},
   "outputs": [],
   "source": [
    "# Read the CSV file into a DataFrame\n",
    "data = pd.read_csv(\"./final.csv\")"
   ]
  },
  {
   "cell_type": "code",
   "execution_count": null,
   "metadata": {},
   "outputs": [],
   "source": [
    "selected_column = ['average_click_duration', 'average_duration_per_day', 'num_of_days', 'tot_movie_watched', 'max_time_spent_watching']\n",
    "\n",
    "# Filter out rows with zero values in any selected column\n",
    "filtered_data = data[(data[selected_column] != 0).any(axis=1)]\n",
    "\n",
    "# Drop rows with missing values\n",
    "filtered_data.dropna(inplace=True)\n",
    "\n",
    "# Select relevant columns for clustering\n",
    "X = filtered_data[selected_column]\n",
    "\n",
    "# Scale the data\n",
    "scaler = StandardScaler()\n",
    "X_scaled = scaler.fit_transform(X)"
   ]
  },
  {
   "cell_type": "code",
   "execution_count": null,
   "metadata": {},
   "outputs": [
    {
     "data": {
      "text/plain": [
       "array([[-0.28359191, -0.3088016 ,  1.63587075,  1.30840311, -0.39551334],\n",
       "       [-0.22264253, -0.11432733, -0.16763182, -0.59352103, -0.21456183],\n",
       "       [-0.10891105, -0.17635355, -0.29645343, -0.2131362 , -0.14624814],\n",
       "       ...,\n",
       "       [-0.02288249, -0.01546962,  0.73411947,  1.1182107 ,  0.14921639],\n",
       "       [-0.29726974, -0.33675627, -0.42527504, -0.40332862, -0.42136168],\n",
       "       [-0.29726974, -0.33675627, -0.55409666, -0.59352103, -0.42136168]])"
      ]
     },
     "metadata": {},
     "output_type": "display_data"
    }
   ],
   "source": [
    "X_scaled"
   ]
  },
  {
   "cell_type": "code",
   "execution_count": null,
   "metadata": {},
   "outputs": [
    {
     "name": "stdout",
     "output_type": "stream",
     "text": [
      "cluster_label\n",
      " 3      20123\n",
      "-1      10979\n",
      " 6       9560\n",
      " 2       4852\n",
      " 5       3336\n",
      "        ...  \n",
      " 437        4\n",
      " 321        4\n",
      " 408        4\n",
      " 391        4\n",
      " 425        4\n",
      "Name: count, Length: 440, dtype: int64\n"
     ]
    }
   ],
   "source": [
    "# Apply DBSCAN\n",
    "eps = 0.1  # Adjust epsilon based on scaled data\n",
    "min_samples = 5  # Adjust min_samples based on the dataset's density\n",
    "dbscan = DBSCAN(eps=eps, min_samples=min_samples)\n",
    "clusters = dbscan.fit_predict(X_scaled)\n",
    "\n",
    "# Add the cluster labels to the original DataFrame\n",
    "filtered_data['cluster_label'] = clusters\n",
    "\n",
    "# Check the clusters\n",
    "print(filtered_data['cluster_label'].value_counts())\n"
   ]
  },
  {
   "cell_type": "code",
   "execution_count": null,
   "metadata": {},
   "outputs": [
    {
     "name": "stdout",
     "output_type": "stream",
     "text": [
      "cluster_label\n",
      " 1      25021\n",
      " 4      15131\n",
      " 2       9669\n",
      "-1       6886\n",
      " 9       6590\n",
      "        ...  \n",
      " 169        4\n",
      " 176        4\n",
      " 157        3\n",
      " 105        3\n",
      " 184        1\n",
      "Name: count, Length: 186, dtype: int64\n"
     ]
    }
   ],
   "source": [
    "# Apply DBSCAN\n",
    "eps = 0.15  # Adjust epsilon based on scaled data\n",
    "min_samples = 5  # Adjust min_samples based on the dataset's density\n",
    "dbscan = DBSCAN(eps=eps, min_samples=min_samples)\n",
    "clusters = dbscan.fit_predict(X_scaled)\n",
    "\n",
    "# Add the cluster labels to the original DataFrame\n",
    "filtered_data['cluster_label'] = clusters\n",
    "\n",
    "# Check the clusters\n",
    "print(filtered_data['cluster_label'].value_counts())"
   ]
  },
  {
   "cell_type": "code",
   "execution_count": null,
   "metadata": {},
   "outputs": [
    {
     "name": "stdout",
     "output_type": "stream",
     "text": [
      "cluster_label\n",
      "-1     25639\n",
      " 1     19206\n",
      " 3      8620\n",
      " 0      4208\n",
      " 2      3020\n",
      "       ...  \n",
      " 59       52\n",
      " 65       51\n",
      " 66       51\n",
      " 67       51\n",
      " 57       50\n",
      "Name: count, Length: 69, dtype: int64\n"
     ]
    }
   ],
   "source": [
    "# Apply DBSCAN\n",
    "eps = 0.08  # Adjust epsilon based on scaled data\n",
    "min_samples = 50  # Adjust min_samples based on the dataset's density\n",
    "dbscan = DBSCAN(eps=eps, min_samples=min_samples)\n",
    "clusters = dbscan.fit_predict(X_scaled)\n",
    "\n",
    "# Add the cluster labels to the original DataFrame\n",
    "filtered_data['cluster_label'] = clusters\n",
    "\n",
    "# Check the clusters\n",
    "print(filtered_data['cluster_label'].value_counts())"
   ]
  },
  {
   "cell_type": "code",
   "execution_count": null,
   "metadata": {},
   "outputs": [
    {
     "data": {
      "image/png": "[encoded data removed]",
      "text/plain": [
       "<Figure size 800x600 with 1 Axes>"
      ]
     },
     "metadata": {},
     "output_type": "display_data"
    }
   ],
   "source": [
    "import matplotlib.pyplot as plt\n",
    "from sklearn.decomposition import PCA\n",
    "\n",
    "# Reduce dimensions using PCA\n",
    "pca = PCA(n_components=2)\n",
    "X_pca = pca.fit_transform(X_scaled)\n",
    "\n",
    "# Plotting the clusters\n",
    "plt.figure(figsize=(8, 6))\n",
    "\n",
    "# Create a scatter plot for each cluster label\n",
    "for label in filtered_data['cluster_label'].unique():\n",
    "    cluster_data = X_pca[filtered_data['cluster_label'] == label]\n",
    "    plt.scatter(cluster_data[:, 0], cluster_data[:, 1], label=f'Cluster {label}')\n",
    "\n",
    "plt.title('DBSCAN Clustering')\n",
    "plt.xlabel('PCA Component 1')\n",
    "plt.ylabel('PCA Component 2')\n",
    "plt.legend()\n",
    "plt.show()"
   ]
  },
  {
   "cell_type": "markdown",
   "metadata": {},
   "source": [
    "## 4. Command Line Question"
   ]
  },
  {
   "cell_type": "markdown",
   "metadata": {},
   "source": [
    "\n",
    "Here is another command line question to enjoy. We previously stated that using the command line tools is a skill that Data Scientists must master.\n",
    "\n",
    "In this question, you should use any command line tool that you know to answer the following questions using the same dataset that you have been using so far:\n",
    "  + What is the most-watched Netflix title?\n",
    "  + Report the average time between subsequent clicks on Netflix.com\n",
    "  + Provide the ID of the user that has spent the most time on Netflix\n",
    "    \n",
    "__Important note:__ You may work on this question in any environment (AWS, your PC command line, Jupyter notebook, etc.), but the final script must be placed in CommandLine.sh, which must be executable. Please run the script and include a __screenshot__ of the <ins>output</ins> in the notebook for evaluation.  \n",
    "\n",
    "### Here is the code for Q1, Q2, and Q3."
   ]
  },
  {
   "cell_type": "code",
   "execution_count": null,
   "metadata": {},
   "outputs": [],
   "source": [
    "#!/bin/bash\n",
    "\n",
    "#-----------------  Q-1  --------------------\n",
    "\n",
    "echo \"Q-1 Answer: \"\n",
    "\n",
    "file='vodclickstream_uk_movies_03.csv'\n",
    "\n",
    "# we use 'awk' as a text-processing tool.\n",
    "# -F is the field-separator. we separate the fields by ','\n",
    "# we then, print the 4th column of each row\n",
    "# The output of the awk which are titles, should pipe to 'sort', using '|' operator.\n",
    "# uniq -c counts the occurrences of each unique title\n",
    "# The output of 'uniq -c' (which includes the count and the title) should be piped to 'sort -nr' which sorts numerically (by the count) and reverse the order\n",
    "# '| head -1:' returns the first line of the result.\n",
    "\n",
    "# Extracting the fourth column ('title') and counting occurrences\n",
    "most_occurred_title=$(awk -F ',' '{print $4}' \"$file\" | sort | uniq -c | sort -nr | head -1)\n",
    "\n",
    "echo \"Most occurred title and its count:\"\n",
    "echo \"$most_occurred_title\"\n",
    "\n",
    "\n",
    "#-----------------  Q-2  --------------------\n",
    "\n",
    "echo \"Q-2 Answer: \"\n",
    "\n",
    "# split($2, date, /[:-]/): Splits the second column ($2) of the current line into an array named date, using /[:-]/ as the separator.\n",
    "# Then we convert the date and time components to seconds and sum up all these values to get the total time in seconds.\n",
    "# diff += time - prev: Calculates the difference between consecutive rows in seconds and accumulates it in the diff variable.\n",
    "# count++: counts the number of rows.\n",
    "# prev = time: Updates the previous time variable for the next iteration.\n",
    "# Once all codes executed before END, compiler runs the code after END.\n",
    "\n",
    "awk -F ',' 'NR > 1 {\n",
    "    split($2, date, /[:-]/); \n",
    "    time = date[1]*365*24*60*60 + date[2]*30*24*60*60 + date[3]*24*60*60 + date[4]*60*60 + date[5]*60 + date[6]; \n",
    "    diff += time - prev; \n",
    "    count++; \n",
    "    prev = time\n",
    "} \n",
    "END {\n",
    "    avg_diff = diff/count; \n",
    "    hours = int(avg_diff / 3600); \n",
    "    minutes = int((avg_diff % 3600) / 60); \n",
    "    seconds = int(avg_diff % 60); \n",
    "    print \"Average difference:\", diff/count;\n",
    "    print \"Average difference:\", hours \" hours, \" minutes \" minutes, \" seconds \" seconds\";\n",
    "}' vodclickstream_uk_movies_03.csv\n",
    "\n",
    "\n",
    "#-----------------  Q-3  --------------------\n",
    "\n",
    "echo \"Q-3 Answer: \"\n",
    "\n",
    "# Read the CSV file\n",
    "# awk -F',' means that he input fields in the file are separated by commas \n",
    "# {sums[$NF]+=$3} creates an array called sums. it sum up the durations ($3) for each unique user_id. ($NF represents the last column). \n",
    "# After END, compiler iterates through the sums array and prints each user_id and its total duration.\n",
    "\n",
    "# Read the CSV file and use awk to sum up durations for each user_id\n",
    "result=$(awk -F ',' '{sums[$NF]+=$3} END {for (id in sums) print id, sums[id]}' vodclickstream_uk_movies_03.csv)\n",
    "\n",
    "# Find the user_id with the maximum total duration\n",
    "# sort -nrk2 sorts the output numerically (-n) based on the second column (-k2) in reverse order (-r)\n",
    "# head -n1 selects only the first line\n",
    "max_duration=$(echo \"$result\" | sort -nrk2 | head -n1)\n",
    "\n",
    "# Extract user_id and total duration\n",
    "max_user_id=$(echo \"$max_duration\" | awk '{print $1}')\n",
    "total_seconds=$(echo \"$max_duration\" | awk '{print $2}')\n",
    "\n",
    "# Convert total duration to hours, minutes, and seconds\n",
    "hours=$((total_seconds / 3600))\n",
    "minutes=$(( (total_seconds % 3600) / 60 ))\n",
    "seconds=$((total_seconds % 60))\n",
    "\n",
    "echo \"User_id with the most total duration: $max_user_id\"\n",
    "echo \"Total duration: $hours hours, $minutes minutes, $seconds seconds\"\n",
    "\n",
    "\n"
   ]
  },
  {
   "cell_type": "markdown",
   "metadata": {},
   "source": [
    "### Here is the result of all 3 questions:\n",
    "\n",
    "![](./CLQ/CLQ-screenshot.png)"
   ]
  },
  {
   "cell_type": "markdown",
   "metadata": {},
   "source": [
    "## 5. Algorithmic Question \n"
   ]
  },
  {
   "cell_type": "markdown",
   "metadata": {},
   "source": [
    "\n",
    "Federico studies in a demanding university where he has to take a certain number $N$ of exams to graduate,  but he is free to choose in which order he will take these exams. Federico is panicking since this university is not only one of the toughest in the world but also one of the weirdest. His final grade won't depend at all on the mark he gets in these courses: there's a precise evaluation system. \n",
    "\n",
    "He was given an initial personal score of $S$ when he enrolled, which changes every time he takes an exam: now comes the crazy part.\n",
    "He soon discovered that every of the $N$ exams he has to take is assigned a mark $p$. Once he has chosen an exam, his score becomes equal to the mark $p$, and at the same time, the scoring system changes:\n",
    "+ If he takes an \"easy\" exam (the score of the exam being less than his score), every other exam's mark is increased by the quantity $S - p$.\n",
    "+ If he takes a \"hard\" exam (the score of the exam is greater than his score), every other exam's mark is decreased by the quantity $p - S$.\n",
    "\n",
    "So, for example, consider $S=8$ as the initial personal score. Federico must decide which exam he wants to take, being $[5,7,1]$ the marks list. If he takes the first one, being $5 < 8$ and $8 - 5 = 3$, the remaining list now becomes $[10,4]$, and his score is updated as $S = 5$.\n",
    "\n",
    "In this chaotic university where the only real exam seems to be choosing the best way to take exams, you are the poor student advisor who is facing a long queue of confused people who need some help. Federico is next in line,  and he comes up in turn with an inescapable question: he wants to know which is the highest score possible he could get. \n",
    "\n",
    "a) Fortunately, you have a computer app designed by a brilliant student. Federico wants you to show him the code which this app is based on\n",
    "because he wants to do paid counseling for other desperate students: in a *recursive* fashion, the helped helps the helpable.\n",
    "\n",
    "b) Federico is getting angry because he claims that your code is slow! Show him formally with a big-O notation that he is as crazy as this university! \n",
    "\n",
    "c) If, unfortunately, Federico is right in the grip of madness, he will threaten you to optimize the code through a different approach. \n",
    "You should end this theater of the absurd by any means! (And again, formally prove that you improved time complexity)\n",
    "\n",
    "d) Ask chatGPT for a third (optimized) implementation and analyze again its time complexity. Be careful (and crafty) in defining the prompt, and challenge the machine in this coding question!\n",
    "\n",
    "Here are some input/output examples (the first value is the initial personal score, and the second line contains the list of marks): \n",
    "\n",
    "__Input 1__\n",
    "```\n",
    "8\n",
    "5 7 1 \n",
    "```\n",
    "\n",
    "__Output 1__\n",
    "```\n",
    "11\n",
    "```\n",
    "\n",
    "__Input 2__\n",
    "```\n",
    "25\n",
    "18 24 21 32 27\n",
    "```\n",
    "\n",
    "__Output 2__\n",
    "```\n",
    "44\n",
    "```\n",
    "\n",
    "__Input 3__\n",
    "```\n",
    "30\n",
    "13 27 41 59 28 33 39 19 52 48 55 79\n",
    "```\n",
    "\n",
    "__Output 3__\n",
    "```\n",
    "205\n",
    "```"
   ]
  },
  {
   "cell_type": "markdown",
   "metadata": {},
   "source": []
  },
  {
   "cell_type": "markdown",
   "metadata": {},
   "source": [
    "### 5.1. Recursive approach "
   ]
  },
  {
   "cell_type": "markdown",
   "metadata": {},
   "source": [
    "Federico requires an algorithm that allows students to achieve their optimal personal score through a *recursive* approach. Our initial strategy involves utilizing the DFS (Depth-First Search) algorithm. The methodology is as follows:\n",
    "\n",
    "1. Implement a `for` loop where we process each element in the array. This involves:\n",
    "   - Setting the current element as the new score.\n",
    "   - Calculating the total score.\n",
    "   - Creating a modified array of exams, excluding the current element, and updating this array while retaining the original array.\n",
    "\n",
    "2. Determine the maximum score by comparing the current `max_score` with the result of a recursive call, which takes the new score and the updated exams array as parameters.\n",
    "\n",
    "3. Continue this process until all possible iterations through the array are completed.\n"
   ]
  },
  {
   "cell_type": "code",
   "execution_count": null,
   "metadata": {},
   "outputs": [
    {
     "name": "stdout",
     "output_type": "stream",
     "text": [
      "11\n",
      "44\n",
      "205\n"
     ]
    }
   ],
   "source": [
    "def exams_v0(score, exams):\n",
    "    if len(exams) == 1:\n",
    "        return exams[0]\n",
    "\n",
    "    max_score = 0\n",
    "    for i in range(len(exams)):\n",
    "        new_score = exams[i]\n",
    "        new_quantity = score - new_score\n",
    "        new_exams = [x + new_quantity for idx, x in enumerate(exams) if idx != i]\n",
    "        max_score = max(max_score, exams_v0(new_score, new_exams))\n",
    "\n",
    "    return max_score\n",
    "\n",
    "\n",
    "print(exams_v0(8, [5, 7, 1]))  # Expected output: 11\n",
    "print(exams_v0(25, [18, 24, 21, 32, 27]))  # Expected output: 44\n",
    "print(exams_v0(30, [13, 27, 41, 59, 28, 33, 39, 19, 52, 48, 55, 79]))  # Expected output: 205"
   ]
  },
  {
   "cell_type": "markdown",
   "metadata": {},
   "source": [
    "However, this approach becomes significantly slow when dealing with a large number of examples (as seen in example 3). A different strategy is required. We propose implementing the DFS algorithm with the addition of memoization to track previous states. This method essentially constitutes Dynamic Programming. By employing this approach, we expect:\n",
    "\n",
    "- **Improved Time Complexity:** The overall processing time should be significantly reduced.\n",
    "- **Space Trade-Off:** Additional memory will be required to store all the states, which is a trade-off for the enhanced time efficiency.\n"
   ]
  },
  {
   "cell_type": "code",
   "execution_count": null,
   "metadata": {},
   "outputs": [
    {
     "name": "stdout",
     "output_type": "stream",
     "text": [
      "11\n",
      "44\n",
      "205\n"
     ]
    }
   ],
   "source": [
    "def exams_v1(score, exams, memo={}):\n",
    "    if len(exams) == 1:\n",
    "        return exams[0]\n",
    "    if (score, tuple(exams)) in memo:\n",
    "        return memo[(score, tuple(exams))]\n",
    "\n",
    "    max_score = 0\n",
    "    for i in range(len(exams)):\n",
    "        new_score = exams[i]\n",
    "        new_quantity = score - new_score\n",
    "        new_exams = [x + new_quantity for idx, x in enumerate(exams) if idx != i]\n",
    "        max_score = max(max_score, exams_v1(new_score, new_exams, memo))\n",
    "\n",
    "    memo[(score, tuple(exams))] = max_score\n",
    "    return max_score\n",
    "\n",
    "\n",
    "print(exams_v1(8, [5, 7, 1]))  # Expected output: 11\n",
    "print(exams_v1(25, [18, 24, 21, 32, 27]))  # Expected output: 44\n",
    "print(exams_v1(30, [13, 27, 41, 59, 28, 33, 39, 19, 52, 48, 55, 79]))  # Expected output: 205"
   ]
  },
  {
   "cell_type": "markdown",
   "metadata": {},
   "source": [
    "When comparing the running times of the two approaches, the benefits of memoization become evident:\n",
    "\n",
    "- **Without Memoization:** The running time is approximately 9 minutes and 21 seconds.\n",
    "- **With Memoization:** The running time is significantly reduced to just 0.6 seconds.\n",
    "\n",
    "Given these results, this approach is markedly more efficient for our current situation. Particularly in systems handling a large number of students, if the space constraint is not an issue, state memoization can greatly expedite the computation of maximum scores. This is especially true in scenarios where similar problems have already been encountered, allowing the system to leverage previous computations to speed up the process.\n"
   ]
  },
  {
   "cell_type": "markdown",
   "metadata": {},
   "source": [
    "### 5.2. Big-O notation for the recursive algorithm "
   ]
  },
  {
   "cell_type": "markdown",
   "metadata": {},
   "source": [
    "The `exams_v1` function is a recursive algorithm with memoization, so analyzing its time complexity can be difficult.\n",
    "\n",
    "The time complexity, without memoization, would be exponential in the size of the `exams` list, approximately `O(n!)`, where `n` is the length of the `exams` list. This is due to exploring all possible combinations of exams in recursive style. \n",
    "\n",
    "With memoization, the time complexity is significantly reduced in average case. The complexity largely depends on the number of unique states, which are determined by the combination of the current score and the remaining exams. However, still in the worst case scenario the time complexity remains `O(n!)`, with also having much worse space complexity. \n"
   ]
  },
  {
   "cell_type": "markdown",
   "metadata": {},
   "source": [
    "### 5.3. New approach!"
   ]
  },
  {
   "cell_type": "markdown",
   "metadata": {},
   "source": [
    "A different approach is necessary. After exploring various strategies, the most effective one seems to involve sorting the `exams` array and then dividing it into two arrays: `easier_exams` and `harder_exams`. For an uneven number of exams, the `harder_exams` array will contain one additional element. The process unfolds as follows:\n",
    "\n",
    "1. **Initial Selection:**\n",
    "   - Select the easiest exam in `harder_exams` if the length of `harder_exams` is larger than the total in `easier_exams`.\n",
    "   - Otherwise, opt for the easiest exam from `easier_exams`.\n",
    "\n",
    "2. **Score Assignment:**\n",
    "   - This selected exam becomes the new score.\n",
    "   - Remove the chosen exam from its array.\n",
    "\n",
    "3. **Calculation and Update:**\n",
    "   - Calculate the necessary quantity.\n",
    "   - Update both the `easier_exams` and `harder_exams` arrays accordingly.\n",
    "\n",
    "4. **Iteration:**\n",
    "   - Update the current score to the value of the `new_score`.\n",
    "   - Continue this process until all exams are addressed.\n",
    "\n",
    "The idea behind this strategy is to tackle the hardest exam at the end, thereby benefiting from the increased value accumulated from the last easy exam."
   ]
  },
  {
   "cell_type": "code",
   "execution_count": null,
   "metadata": {},
   "outputs": [
    {
     "name": "stdout",
     "output_type": "stream",
     "text": [
      "11\n",
      "44\n",
      "205\n"
     ]
    }
   ],
   "source": [
    "def exams_v2(score, exams):\n",
    "    if len(exams) == 1:\n",
    "        return exams[0]\n",
    "\n",
    "    sorted_exams = sorted(exams)\n",
    "    easier_exams = sorted_exams[: (len(exams) // 2)]\n",
    "    harder_exams = sorted_exams[len(exams) // 2 : len(exams)]\n",
    "    while len(harder_exams) > 0:\n",
    "        if len(harder_exams) == len(easier_exams):\n",
    "            new_score = easier_exams[0]\n",
    "            del easier_exams[0]\n",
    "        else:\n",
    "            new_score = harder_exams[0]\n",
    "            del harder_exams[0]\n",
    "\n",
    "        new_quantity = score - new_score\n",
    "        harder_exams = [x + new_quantity for x in harder_exams]\n",
    "        easier_exams = [x + new_quantity for x in easier_exams]\n",
    "        score = new_score\n",
    "\n",
    "    return score\n",
    "\n",
    "\n",
    "print(exams_v2(8, [5, 7, 1]))  # Expected output: 11\n",
    "print(exams_v2(25, [18, 24, 21, 32, 27]))  # Expected output: 44\n",
    "print(exams_v2(30, [13, 27, 41, 59, 28, 33, 39, 19, 52, 48, 55, 79])) # Expected output: 205"
   ]
  },
  {
   "cell_type": "markdown",
   "metadata": {},
   "source": [
    "After checking the results, they match what we got from the earlier algorithms, suggesting our new implementation is correct."
   ]
  },
  {
   "cell_type": "markdown",
   "metadata": {},
   "source": [
    "#### Time complexity"
   ]
  },
  {
   "cell_type": "markdown",
   "metadata": {},
   "source": [
    "The time complexity of the `exams_v2` function can be broken down as follows:\n",
    "\n",
    "1. **Sorting the Exams Array:**\n",
    "   - The `sorted()` function is used, which typically has a time complexity of `O(n log n)` where `n` is the number of elements in the `exams` array.\n",
    "\n",
    "2. **Splitting the Array:**\n",
    "   - Dividing the array into `easier_exams` and `harder_exams` is a constant time operation, `O(1)`, involving basic arithmetic and slicing.\n",
    "\n",
    "3. **While Loop:**\n",
    "   - The loop iterates over `harder_exams`, potentially up to `n/2` times in the worst case.\n",
    "   - Within each iteration:\n",
    "     - Removing the first element (`del`) is `O(n)` as it requires shifting all elements.\n",
    "     - Updating `harder_exams` and `easier_exams` is `O(n)` for each list, totaling `O(n)` per iteration.\n",
    "\n",
    "Combining these complexities:\n",
    "\n",
    "- The initial sorting is `O(n log n)`.\n",
    "- The while loop, with its operations, contributes `O(n^2/2)`.\n",
    "\n",
    "`O(n^2/2)` takes priority over `O(n log n)`, therfore, the overall time complexity is approximately `O(n^2)`."
   ]
  },
  {
   "cell_type": "markdown",
   "metadata": {},
   "source": [
    "When compared to our previous implementations, this approach is significantly faster and does not require the additional space that was needed for memoization. Thus, Federico is likely to be more satisfied with this solution."
   ]
  },
  {
   "cell_type": "markdown",
   "metadata": {},
   "source": [
    "### 5.4. Third approach (ChatGPT)"
   ]
  },
  {
   "cell_type": "markdown",
   "metadata": {},
   "source": [
    "For our final approach, we plan to consult ChatGPT for a third, optimized implementation. Our objective is to:\n",
    "\n",
    "1. Provide ChatGPT with the latest version of our code.\n",
    "2. Clearly explain the task requirements.\n",
    "3. Analyze the time complexity of the suggested optimized solution.\n",
    "\n",
    "This will help us determine if there is an improvement in time complexity compared to our previous methods.\n"
   ]
  },
  {
   "cell_type": "markdown",
   "metadata": {},
   "source": [
    "Prompt that was used is following: \n",
    "\n",
    "\"I need a optimized solution for this task: `(explanation of the task)`. The code that was already done is next one:\n",
    "```python\n",
    "def exams_v2(score, exams):\n",
    "    if len(exams) == 1:\n",
    "        return exams[0]\n",
    "\n",
    "    sorted_exams = sorted(exams)\n",
    "    easier_exams = sorted_exams[: (len(exams) // 2)]\n",
    "    harder_exams = sorted_exams[len(exams) // 2 : len(exams)]\n",
    "    while len(harder_exams) > 0:\n",
    "        if len(harder_exams) == len(easier_exams):\n",
    "            new_score = easier_exams[0]\n",
    "            del easier_exams[0]\n",
    "        else:\n",
    "            new_score = harder_exams[0]\n",
    "            del harder_exams[0]\n",
    "\n",
    "        new_quantity = score - new_score\n",
    "        harder_exams = [x + new_quantity for x in harder_exams]\n",
    "        easier_exams = [x + new_quantity for x in easier_exams]\n",
    "        score = new_score\n",
    "\n",
    "    return score\n",
    "\n",
    "\n",
    "print(exams_v2(8, [5, 7, 1]))  # Expected output: 11\n",
    "print(exams_v2(25, [18, 24, 21, 32, 27]))  # Expected output: 44\n",
    "print(exams_v2(30, [13, 27, 41, 59, 28, 33, 39, 19, 52, 48, 55, 79])) # Expected output: 205\n",
    "```\n",
    "One of the problems is O(n^2) complexity inside the while loop, so different approach is needed.\"\n",
    "\n"
   ]
  },
  {
   "cell_type": "markdown",
   "metadata": {},
   "source": [
    "After a few prompts and explaining the problem in more detail, the code that was produced was next one:"
   ]
  },
  {
   "cell_type": "code",
   "execution_count": null,
   "metadata": {},
   "outputs": [
    {
     "name": "stdout",
     "output_type": "stream",
     "text": [
      "11\n",
      "44\n",
      "205\n"
     ]
    }
   ],
   "source": [
    "from collections import deque\n",
    "\n",
    "def exams_v3(score, exams):\n",
    "    if len(exams) == 1:\n",
    "        return exams[0]\n",
    "\n",
    "    sorted_exams = sorted(exams)\n",
    "    mid_index = len(exams) // 2\n",
    "    easier_exams = deque(sorted_exams[:mid_index])\n",
    "    harder_exams = deque(sorted_exams[mid_index:])\n",
    "\n",
    "    cumulative_adjustment = 0\n",
    "\n",
    "    while harder_exams or easier_exams:\n",
    "        if len(harder_exams) == len(easier_exams):\n",
    "            current_exam = easier_exams.popleft()\n",
    "        else:\n",
    "            current_exam = harder_exams.popleft()\n",
    "\n",
    "        current_exam += cumulative_adjustment\n",
    "        new_score = score - current_exam\n",
    "        cumulative_adjustment += new_score\n",
    "        score = current_exam\n",
    "\n",
    "    return score\n",
    "\n",
    "print(exams_v3(8, [5, 7, 1]))  # Expected output: 11\n",
    "print(exams_v3(25, [18, 24, 21, 32, 27]))  # Expected output: 44\n",
    "print(exams_v3(30, [13, 27, 41, 59, 28, 33, 39, 19, 52, 48, 55, 79])) # Expected output: 205\n"
   ]
  },
  {
   "cell_type": "markdown",
   "metadata": {},
   "source": [
    "The primary difference between these two codes lies in the use of `deque` instead of a regular list. With `deque`, we can utilize `popleft()`, which is an `O(1)` operation, in contrast to the `O(n)` operation when using regular lists. This approach also avoids recalculating all remaining exam scores in each iteration. Instead, it updates a `cumulative_adjustment` variable, which is now also an `O(1)` operation. As a result, the overall time complexity is reduced to `O(nlog(n))`, making it a much more optimized solution compared to the `exams_v2` approach.\n",
    "\n",
    "Additionally, with the use of ChatGPT version 4, prompt was asked to compare their execution times. Here are the results:\n",
    "- `exams_v2`: approximately 0.060 seconds\n",
    "- `exams_v3`: approximately 0.00084 seconds\n"
   ]
  }
 ],
 "metadata": {
  "language_info": {
   "name": "python"
  }
 },
 "nbformat": 4,
 "nbformat_minor": 2
}
