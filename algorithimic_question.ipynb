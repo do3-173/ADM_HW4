{
 "cells": [
  {
   "cell_type": "markdown",
   "metadata": {},
   "source": [
    "## 5. Algorithmic Question \n",
    "\n",
    "Federico studies in a demanding university where he has to take a certain number $N$ of exams to graduate,  but he is free to choose in which order he will take these exams. Federico is panicking since this university is not only one of the toughest in the world but also one of the weirdest. His final grade won't depend at all on the mark he gets in these courses: there's a precise evaluation system. \n",
    "\n",
    "He was given an initial personal score of $S$ when he enrolled, which changes every time he takes an exam: now comes the crazy part.\n",
    "He soon discovered that every of the $N$ exams he has to take is assigned a mark $p$. Once he has chosen an exam, his score becomes equal to the mark $p$, and at the same time, the scoring system changes:\n",
    "+ If he takes an \"easy\" exam (the score of the exam being less than his score), every other exam's mark is increased by the quantity $S - p$.\n",
    "+ If he takes a \"hard\" exam (the score of the exam is greater than his score), every other exam's mark is decreased by the quantity $p - S$.\n",
    "\n",
    "So, for example, consider $S=8$ as the initial personal score. Federico must decide which exam he wants to take, being $[5,7,1]$ the marks list. If he takes the first one, being $5 < 8$ and $8 - 5 = 3$, the remaining list now becomes $[10,4]$, and his score is updated as $S = 5$.\n",
    "\n",
    "In this chaotic university where the only real exam seems to be choosing the best way to take exams, you are the poor student advisor who is facing a long queue of confused people who need some help. Federico is next in line,  and he comes up in turn with an inescapable question: he wants to know which is the highest score possible he could get. \n",
    "\n",
    "a) Fortunately, you have a computer app designed by a brilliant student. Federico wants you to show him the code which this app is based on\n",
    "because he wants to do paid counseling for other desperate students: in a *recursive* fashion, the helped helps the helpable.\n",
    "\n",
    "b) Federico is getting angry because he claims that your code is slow! Show him formally with a big-O notation that he is as crazy as this university! \n",
    "\n",
    "c) If, unfortunately, Federico is right in the grip of madness, he will threaten you to optimize the code through a different approach. \n",
    "You should end this theater of the absurd by any means! (And again, formally prove that you improved time complexity)\n",
    "\n",
    "d) Ask chatGPT for a third (optimized) implementation and analyze again its time complexity. Be careful (and crafty) in defining the prompt, and challenge the machine in this coding question!\n",
    "\n",
    "Here are some input/output examples (the first value is the initial personal score, and the second line contains the list of marks): \n",
    "\n",
    "__Input 1__\n",
    "```\n",
    "8\n",
    "5 7 1 \n",
    "```\n",
    "\n",
    "__Output 1__\n",
    "```\n",
    "11\n",
    "```\n",
    "\n",
    "__Input 2__\n",
    "```\n",
    "25\n",
    "18 24 21 32 27\n",
    "```\n",
    "\n",
    "__Output 2__\n",
    "```\n",
    "44\n",
    "```\n",
    "\n",
    "__Input 3__\n",
    "```\n",
    "30\n",
    "13 27 41 59 28 33 39 19 52 48 55 79\n",
    "```\n",
    "\n",
    "__Output 3__\n",
    "```\n",
    "205\n",
    "```"
   ]
  },
  {
   "cell_type": "markdown",
   "metadata": {},
   "source": [
    "### 5.1. Recursive approach "
   ]
  },
  {
   "cell_type": "markdown",
   "metadata": {},
   "source": [
    "Federico requires an algorithm that allows students to achieve their optimal personal score through a *recursive* approach. Our initial strategy involves utilizing the DFS (Depth-First Search) algorithm. The methodology is as follows:\n",
    "\n",
    "1. Implement a `for` loop where we process each element in the array. This involves:\n",
    "   - Setting the current element as the new score.\n",
    "   - Calculating the total score.\n",
    "   - Creating a modified array of exams, excluding the current element, and updating this array while retaining the original array.\n",
    "\n",
    "2. Determine the maximum score by comparing the current `max_score` with the result of a recursive call, which takes the new score and the updated exams array as parameters.\n",
    "\n",
    "3. Continue this process until all possible iterations through the array are completed.\n"
   ]
  },
  {
   "cell_type": "code",
   "execution_count": 67,
   "metadata": {},
   "outputs": [
    {
     "name": "stdout",
     "output_type": "stream",
     "text": [
      "11\n",
      "44\n",
      "205\n"
     ]
    }
   ],
   "source": [
    "def exams_v0(score, exams):\n",
    "    if len(exams) == 1:\n",
    "        return exams[0]\n",
    "\n",
    "    max_score = 0\n",
    "    for i in range(len(exams)):\n",
    "        new_score = exams[i]\n",
    "        new_quantity = score - new_score\n",
    "        new_exams = [x + new_quantity for idx, x in enumerate(exams) if idx != i]\n",
    "        max_score = max(max_score, exams_v0(new_score, new_exams))\n",
    "\n",
    "    return max_score\n",
    "\n",
    "\n",
    "print(exams_v0(8, [5, 7, 1]))  # Expected output: 11\n",
    "print(exams_v0(25, [18, 24, 21, 32, 27]))  # Expected output: 44\n",
    "print(exams_v0(30, [13, 27, 41, 59, 28, 33, 39, 19, 52, 48, 55, 79]))  # Expected output: 205"
   ]
  },
  {
   "cell_type": "markdown",
   "metadata": {},
   "source": [
    "However, this approach becomes significantly slow when dealing with a large number of examples (as seen in example 3). A different strategy is required. We propose implementing the DFS algorithm with the addition of memoization to track previous states. This method essentially constitutes Dynamic Programming. By employing this approach, we expect:\n",
    "\n",
    "- **Improved Time Complexity:** The overall processing time should be significantly reduced.\n",
    "- **Space Trade-Off:** Additional memory will be required to store all the states, which is a trade-off for the enhanced time efficiency.\n"
   ]
  },
  {
   "cell_type": "code",
   "execution_count": 1,
   "metadata": {},
   "outputs": [
    {
     "name": "stdout",
     "output_type": "stream",
     "text": [
      "11\n",
      "44\n",
      "205\n"
     ]
    }
   ],
   "source": [
    "def exams_v1(score, exams, memo={}):\n",
    "    if len(exams) == 1:\n",
    "        return exams[0]\n",
    "    if (score, tuple(exams)) in memo:\n",
    "        return memo[(score, tuple(exams))]\n",
    "\n",
    "    max_score = 0\n",
    "    for i in range(len(exams)):\n",
    "        new_score = exams[i]\n",
    "        new_quantity = score - new_score\n",
    "        new_exams = [x + new_quantity for idx, x in enumerate(exams) if idx != i]\n",
    "        max_score = max(max_score, exams_v1(new_score, new_exams, memo))\n",
    "\n",
    "    memo[(score, tuple(exams))] = max_score\n",
    "    return max_score\n",
    "\n",
    "\n",
    "print(exams_v1(8, [5, 7, 1]))  # Expected output: 11\n",
    "print(exams_v1(25, [18, 24, 21, 32, 27]))  # Expected output: 44\n",
    "print(exams_v1(30, [13, 27, 41, 59, 28, 33, 39, 19, 52, 48, 55, 79]))  # Expected output: 205"
   ]
  },
  {
   "cell_type": "markdown",
   "metadata": {},
   "source": [
    "When comparing the running times of the two approaches, the benefits of memoization become evident:\n",
    "\n",
    "- **Without Memoization:** The running time is approximately 9 minutes and 21 seconds.\n",
    "- **With Memoization:** The running time is significantly reduced to just 0.6 seconds.\n",
    "\n",
    "Given these results, this approach is markedly more efficient for our current situation. Particularly in systems handling a large number of students, if the space constraint is not an issue, state memoization can greatly expedite the computation of maximum scores. This is especially true in scenarios where similar problems have already been encountered, allowing the system to leverage previous computations to speed up the process.\n"
   ]
  },
  {
   "cell_type": "markdown",
   "metadata": {},
   "source": [
    "### 5.2. Big-O notation for the recursive algorithm "
   ]
  },
  {
   "cell_type": "markdown",
   "metadata": {},
   "source": [
    "The `exams_v1` function is a recursive algorithm with memoization, so analyzing its time complexity can be difficult.\n",
    "\n",
    "The time complexity, without memoization, would be exponential in the size of the `exams` list, approximately `O(n!)`, where `n` is the length of the `exams` list. This is due to exploring all possible combinations of exams in recursive style. \n",
    "\n",
    "With memoization, the time complexity is significantly reduced in average case. The complexity largely depends on the number of unique states, which are determined by the combination of the current score and the remaining exams. However, still in the worst case scenario the time complexity remains `O(n!)`, with also having much worse space complexity. \n"
   ]
  },
  {
   "cell_type": "markdown",
   "metadata": {},
   "source": [
    "### 5.3. New approach!"
   ]
  },
  {
   "cell_type": "markdown",
   "metadata": {},
   "source": [
    "A different approach is necessary. After exploring various strategies, the most effective one seems to involve sorting the `exams` array and then dividing it into two arrays: `easier_exams` and `harder_exams`. For an uneven number of exams, the `harder_exams` array will contain one additional element. The process unfolds as follows:\n",
    "\n",
    "1. **Initial Selection:**\n",
    "   - Select the easiest exam in `harder_exams` if the length of `harder_exams` is larger than the total in `easier_exams`.\n",
    "   - Otherwise, opt for the easiest exam from `easier_exams`.\n",
    "\n",
    "2. **Score Assignment:**\n",
    "   - This selected exam becomes the new score.\n",
    "   - Remove the chosen exam from its array.\n",
    "\n",
    "3. **Calculation and Update:**\n",
    "   - Calculate the necessary quantity.\n",
    "   - Update both the `easier_exams` and `harder_exams` arrays accordingly.\n",
    "\n",
    "4. **Iteration:**\n",
    "   - Update the current score to the value of the `new_score`.\n",
    "   - Continue this process until all exams are addressed.\n",
    "\n",
    "The idea behind this strategy is to tackle the hardest exam at the end, thereby benefiting from the increased value accumulated from the last easy exam."
   ]
  },
  {
   "cell_type": "code",
   "execution_count": 1,
   "metadata": {},
   "outputs": [
    {
     "name": "stdout",
     "output_type": "stream",
     "text": [
      "11\n",
      "44\n",
      "205\n"
     ]
    }
   ],
   "source": [
    "def exams_v2(score, exams):\n",
    "    if len(exams) == 1:\n",
    "        return exams[0]\n",
    "\n",
    "    sorted_exams = sorted(exams)\n",
    "    easier_exams = sorted_exams[: (len(exams) // 2)]\n",
    "    harder_exams = sorted_exams[len(exams) // 2 : len(exams)]\n",
    "    while len(harder_exams) > 0:\n",
    "        if len(harder_exams) == len(easier_exams):\n",
    "            new_score = easier_exams[0]\n",
    "            del easier_exams[0]\n",
    "        else:\n",
    "            new_score = harder_exams[0]\n",
    "            del harder_exams[0]\n",
    "\n",
    "        new_quantity = score - new_score\n",
    "        harder_exams = [x + new_quantity for x in harder_exams]\n",
    "        easier_exams = [x + new_quantity for x in easier_exams]\n",
    "        score = new_score\n",
    "\n",
    "    return score\n",
    "\n",
    "\n",
    "print(exams_v2(8, [5, 7, 1]))  # Expected output: 11\n",
    "print(exams_v2(25, [18, 24, 21, 32, 27]))  # Expected output: 44\n",
    "print(exams_v2(30, [13, 27, 41, 59, 28, 33, 39, 19, 52, 48, 55, 79])) # Expected output: 205"
   ]
  },
  {
   "cell_type": "markdown",
   "metadata": {},
   "source": [
    "After checking the results, they match what we got from the earlier algorithms, suggesting our new implementation is correct."
   ]
  },
  {
   "cell_type": "markdown",
   "metadata": {},
   "source": [
    "#### Time complexity"
   ]
  },
  {
   "cell_type": "markdown",
   "metadata": {},
   "source": [
    "The time complexity of the `exams_v2` function can be broken down as follows:\n",
    "\n",
    "1. **Sorting the Exams Array:**\n",
    "   - The `sorted()` function is used, which typically has a time complexity of `O(n log n)` where `n` is the number of elements in the `exams` array.\n",
    "\n",
    "2. **Splitting the Array:**\n",
    "   - Dividing the array into `easier_exams` and `harder_exams` is a constant time operation, `O(1)`, involving basic arithmetic and slicing.\n",
    "\n",
    "3. **While Loop:**\n",
    "   - The loop iterates over `harder_exams`, potentially up to `n/2` times in the worst case.\n",
    "   - Within each iteration:\n",
    "     - Removing the first element (`del`) is `O(n)` as it requires shifting all elements.\n",
    "     - Updating `harder_exams` and `easier_exams` is `O(n)` for each list, totaling `O(n)` per iteration.\n",
    "\n",
    "Combining these complexities:\n",
    "\n",
    "- The initial sorting is `O(n log n)`.\n",
    "- The while loop, with its operations, contributes `O(n^2/2)`.\n",
    "\n",
    "`O(n^2/2)` takes priority over `O(n log n)`, therfore, the overall time complexity is approximately `O(n^2)`."
   ]
  },
  {
   "cell_type": "markdown",
   "metadata": {},
   "source": [
    "When compared to our previous implementations, this approach is significantly faster and does not require the additional space that was needed for memoization. Thus, Federico is likely to be more satisfied with this solution."
   ]
  },
  {
   "cell_type": "markdown",
   "metadata": {},
   "source": [
    "### 5.4. Third approach (ChatGPT)"
   ]
  },
  {
   "cell_type": "markdown",
   "metadata": {},
   "source": [
    "For our final approach, we plan to consult ChatGPT for a third, optimized implementation. Our objective is to:\n",
    "\n",
    "1. Provide ChatGPT with the latest version of our code.\n",
    "2. Clearly explain the task requirements.\n",
    "3. Analyze the time complexity of the suggested optimized solution.\n",
    "\n",
    "This will help us determine if there is an improvement in time complexity compared to our previous methods.\n"
   ]
  },
  {
   "cell_type": "markdown",
   "metadata": {},
   "source": [
    "Prompt that was used is following: \n",
    "\n",
    "\"I need a optimized solution for this task: `(explanation of the task)`. The code that was already done is next one:\n",
    "```python\n",
    "def exams_v2(score, exams):\n",
    "    if len(exams) == 1:\n",
    "        return exams[0]\n",
    "\n",
    "    sorted_exams = sorted(exams)\n",
    "    easier_exams = sorted_exams[: (len(exams) // 2)]\n",
    "    harder_exams = sorted_exams[len(exams) // 2 : len(exams)]\n",
    "    while len(harder_exams) > 0:\n",
    "        if len(harder_exams) == len(easier_exams):\n",
    "            new_score = easier_exams[0]\n",
    "            del easier_exams[0]\n",
    "        else:\n",
    "            new_score = harder_exams[0]\n",
    "            del harder_exams[0]\n",
    "\n",
    "        new_quantity = score - new_score\n",
    "        harder_exams = [x + new_quantity for x in harder_exams]\n",
    "        easier_exams = [x + new_quantity for x in easier_exams]\n",
    "        score = new_score\n",
    "\n",
    "    return score\n",
    "\n",
    "\n",
    "print(exams_v2(8, [5, 7, 1]))  # Expected output: 11\n",
    "print(exams_v2(25, [18, 24, 21, 32, 27]))  # Expected output: 44\n",
    "print(exams_v2(30, [13, 27, 41, 59, 28, 33, 39, 19, 52, 48, 55, 79])) # Expected output: 205\n",
    "```\n",
    "One of the problems is O(n^2) complexity inside the while loop, so different approach is needed.\"\n",
    "\n"
   ]
  },
  {
   "cell_type": "markdown",
   "metadata": {},
   "source": [
    "After a few prompts and explaining the problem in more detail, the code that was produced was next one:"
   ]
  },
  {
   "cell_type": "code",
   "execution_count": 5,
   "metadata": {},
   "outputs": [
    {
     "name": "stdout",
     "output_type": "stream",
     "text": [
      "11\n",
      "44\n",
      "205\n"
     ]
    }
   ],
   "source": [
    "from collections import deque\n",
    "\n",
    "def exams_v3(score, exams):\n",
    "    if len(exams) == 1:\n",
    "        return exams[0]\n",
    "\n",
    "    sorted_exams = sorted(exams)\n",
    "    mid_index = len(exams) // 2\n",
    "    easier_exams = deque(sorted_exams[:mid_index])\n",
    "    harder_exams = deque(sorted_exams[mid_index:])\n",
    "\n",
    "    cumulative_adjustment = 0\n",
    "\n",
    "    while harder_exams or easier_exams:\n",
    "        if len(harder_exams) == len(easier_exams):\n",
    "            current_exam = easier_exams.popleft()\n",
    "        else:\n",
    "            current_exam = harder_exams.popleft()\n",
    "\n",
    "        current_exam += cumulative_adjustment\n",
    "        new_score = score - current_exam\n",
    "        cumulative_adjustment += new_score\n",
    "        score = current_exam\n",
    "\n",
    "    return score\n",
    "\n",
    "print(exams_v3(8, [5, 7, 1]))  # Expected output: 11\n",
    "print(exams_v3(25, [18, 24, 21, 32, 27]))  # Expected output: 44\n",
    "print(exams_v3(30, [13, 27, 41, 59, 28, 33, 39, 19, 52, 48, 55, 79])) # Expected output: 205\n"
   ]
  },
  {
   "cell_type": "markdown",
   "metadata": {},
   "source": [
    "The primary difference between these two codes lies in the use of `deque` instead of a regular list. With `deque`, we can utilize `popleft()`, which is an `O(1)` operation, in contrast to the `O(n)` operation when using regular lists. This approach also avoids recalculating all remaining exam scores in each iteration. Instead, it updates a `cumulative_adjustment` variable, which is now also an `O(1)` operation. As a result, the overall time complexity is reduced to `O(nlog(n))`, making it a much more optimized solution compared to the `exams_v2` approach.\n",
    "\n",
    "Additionally, with the use of ChatGPT version 4, prompt was asked to compare their execution times. Here are the results:\n",
    "- `exams_v2`: approximately 0.060 seconds\n",
    "- `exams_v3`: approximately 0.00084 seconds\n"
   ]
  },
  {
   "cell_type": "code",
   "execution_count": null,
   "metadata": {},
   "outputs": [],
   "source": []
  }
 ],
 "metadata": {
  "kernelspec": {
   "display_name": "adm_hw4",
   "language": "python",
   "name": "python3"
  },
  "language_info": {
   "codemirror_mode": {
    "name": "ipython",
    "version": 3
   },
   "file_extension": ".py",
   "mimetype": "text/x-python",
   "name": "python",
   "nbconvert_exporter": "python",
   "pygments_lexer": "ipython3",
   "version": "3.11.5"
  }
 },
 "nbformat": 4,
 "nbformat_minor": 2
}
