{
 "cells": [
  {
   "cell_type": "code",
   "execution_count": 148,
   "id": "initial_id",
   "metadata": {
    "collapsed": true,
    "ExecuteTime": {
     "end_time": "2023-12-05T20:24:35.408868300Z",
     "start_time": "2023-12-05T20:24:35.383894Z"
    }
   },
   "outputs": [],
   "source": [
    "import nltk\n",
    "import pandas as pd\n",
    "import numpy as np\n",
    "import random"
   ]
  },
  {
   "cell_type": "code",
   "execution_count": 149,
   "outputs": [
    {
     "name": "stdout",
     "output_type": "stream",
     "text": [
      "          Unnamed: 0      duration\n",
      "count  671736.000000  6.717360e+05\n",
      "mean   394640.500000  3.347603e+04\n",
      "std    193913.624549  1.574396e+05\n",
      "min     58773.000000 -1.000000e+00\n",
      "25%    226706.750000  0.000000e+00\n",
      "50%    394640.500000  1.400000e+01\n",
      "75%    562574.250000  6.672250e+03\n",
      "max    730508.000000  1.823725e+07\n",
      "Index(['Unnamed: 0', 'datetime', 'duration', 'title', 'genres', 'release_date',\n",
      "       'movie_id', 'user_id'],\n",
      "      dtype='object')\n"
     ]
    }
   ],
   "source": [
    "netflix_df = pd.read_csv(r'C:\\Users\\ahmad\\Desktop\\sap\\adm\\HW4\\archive (1)\\vodclickstream_uk_movies_03.csv')\n",
    "\n",
    "print(netflix_df.describe())\n",
    "print(netflix_df.columns)"
   ],
   "metadata": {
    "collapsed": false,
    "ExecuteTime": {
     "end_time": "2023-12-05T20:24:39.298044900Z",
     "start_time": "2023-12-05T20:24:37.740374100Z"
    }
   },
   "id": "16c7489efe7926de"
  },
  {
   "cell_type": "code",
   "execution_count": 150,
   "outputs": [
    {
     "data": {
      "text/plain": "        Unnamed: 0             datetime  duration               title  \\\n223802      282575  2017-12-05 20:39:15       0.0            Hannibal   \n89781       148554  2017-05-30 20:36:34       0.0          Green Room   \n102939      161712  2017-06-18 20:38:02       0.0              Looper   \n102994      161767  2017-06-18 20:44:27       0.0              Looper   \n103016      161789  2017-06-18 20:44:27       0.0              Looper   \n...            ...                  ...       ...                 ...   \n143135      201908  2017-08-11 21:03:15    2171.0         Amanda Knox   \n142728      201501  2017-08-10 07:15:41   49440.0  Enemy at the Gates   \n130095      188868  2017-07-23 15:02:43       0.0            Hot Fuzz   \n129867      188640  2017-07-23 14:45:12       0.0   Forks Over Knives   \n457025      515798  2018-10-13 22:45:37       0.0    Dead Man Walking   \n\n                                   genres release_date    movie_id     user_id  \n223802             Crime, Drama, Thriller   2001-02-09  9bfee795ff  00004e2862  \n89781             Horror, Music, Thriller   2016-05-13  43bb6de314  000052a0a0  \n102939    Action, Drama, Sci-Fi, Thriller   2012-09-28  4718f9963c  000052a0a0  \n102994    Action, Drama, Sci-Fi, Thriller   2012-09-28  4718f9963c  000052a0a0  \n103016    Action, Drama, Sci-Fi, Thriller   2012-09-28  4718f9963c  000052a0a0  \n...                                   ...          ...         ...         ...  \n143135                 Documentary, Crime   2016-09-30  cb6d7afd76  fffeac83be  \n142728                Drama, History, War   2001-03-16  dda0eae17b  fffeac83be  \n130095  Action, Comedy, Mystery, Thriller   2007-04-20  6467fee6b6  ffff2c5f9e  \n129867                        Documentary   2013-10-16  9ab62a3f2c  ffff2c5f9e  \n457025                       Crime, Drama   1996-02-02  9d1f4fb4fb  ffffd36adf  \n\n[671736 rows x 8 columns]",
      "text/html": "<div>\n<style scoped>\n    .dataframe tbody tr th:only-of-type {\n        vertical-align: middle;\n    }\n\n    .dataframe tbody tr th {\n        vertical-align: top;\n    }\n\n    .dataframe thead th {\n        text-align: right;\n    }\n</style>\n<table border=\"1\" class=\"dataframe\">\n  <thead>\n    <tr style=\"text-align: right;\">\n      <th></th>\n      <th>Unnamed: 0</th>\n      <th>datetime</th>\n      <th>duration</th>\n      <th>title</th>\n      <th>genres</th>\n      <th>release_date</th>\n      <th>movie_id</th>\n      <th>user_id</th>\n    </tr>\n  </thead>\n  <tbody>\n    <tr>\n      <th>223802</th>\n      <td>282575</td>\n      <td>2017-12-05 20:39:15</td>\n      <td>0.0</td>\n      <td>Hannibal</td>\n      <td>Crime, Drama, Thriller</td>\n      <td>2001-02-09</td>\n      <td>9bfee795ff</td>\n      <td>00004e2862</td>\n    </tr>\n    <tr>\n      <th>89781</th>\n      <td>148554</td>\n      <td>2017-05-30 20:36:34</td>\n      <td>0.0</td>\n      <td>Green Room</td>\n      <td>Horror, Music, Thriller</td>\n      <td>2016-05-13</td>\n      <td>43bb6de314</td>\n      <td>000052a0a0</td>\n    </tr>\n    <tr>\n      <th>102939</th>\n      <td>161712</td>\n      <td>2017-06-18 20:38:02</td>\n      <td>0.0</td>\n      <td>Looper</td>\n      <td>Action, Drama, Sci-Fi, Thriller</td>\n      <td>2012-09-28</td>\n      <td>4718f9963c</td>\n      <td>000052a0a0</td>\n    </tr>\n    <tr>\n      <th>102994</th>\n      <td>161767</td>\n      <td>2017-06-18 20:44:27</td>\n      <td>0.0</td>\n      <td>Looper</td>\n      <td>Action, Drama, Sci-Fi, Thriller</td>\n      <td>2012-09-28</td>\n      <td>4718f9963c</td>\n      <td>000052a0a0</td>\n    </tr>\n    <tr>\n      <th>103016</th>\n      <td>161789</td>\n      <td>2017-06-18 20:44:27</td>\n      <td>0.0</td>\n      <td>Looper</td>\n      <td>Action, Drama, Sci-Fi, Thriller</td>\n      <td>2012-09-28</td>\n      <td>4718f9963c</td>\n      <td>000052a0a0</td>\n    </tr>\n    <tr>\n      <th>...</th>\n      <td>...</td>\n      <td>...</td>\n      <td>...</td>\n      <td>...</td>\n      <td>...</td>\n      <td>...</td>\n      <td>...</td>\n      <td>...</td>\n    </tr>\n    <tr>\n      <th>143135</th>\n      <td>201908</td>\n      <td>2017-08-11 21:03:15</td>\n      <td>2171.0</td>\n      <td>Amanda Knox</td>\n      <td>Documentary, Crime</td>\n      <td>2016-09-30</td>\n      <td>cb6d7afd76</td>\n      <td>fffeac83be</td>\n    </tr>\n    <tr>\n      <th>142728</th>\n      <td>201501</td>\n      <td>2017-08-10 07:15:41</td>\n      <td>49440.0</td>\n      <td>Enemy at the Gates</td>\n      <td>Drama, History, War</td>\n      <td>2001-03-16</td>\n      <td>dda0eae17b</td>\n      <td>fffeac83be</td>\n    </tr>\n    <tr>\n      <th>130095</th>\n      <td>188868</td>\n      <td>2017-07-23 15:02:43</td>\n      <td>0.0</td>\n      <td>Hot Fuzz</td>\n      <td>Action, Comedy, Mystery, Thriller</td>\n      <td>2007-04-20</td>\n      <td>6467fee6b6</td>\n      <td>ffff2c5f9e</td>\n    </tr>\n    <tr>\n      <th>129867</th>\n      <td>188640</td>\n      <td>2017-07-23 14:45:12</td>\n      <td>0.0</td>\n      <td>Forks Over Knives</td>\n      <td>Documentary</td>\n      <td>2013-10-16</td>\n      <td>9ab62a3f2c</td>\n      <td>ffff2c5f9e</td>\n    </tr>\n    <tr>\n      <th>457025</th>\n      <td>515798</td>\n      <td>2018-10-13 22:45:37</td>\n      <td>0.0</td>\n      <td>Dead Man Walking</td>\n      <td>Crime, Drama</td>\n      <td>1996-02-02</td>\n      <td>9d1f4fb4fb</td>\n      <td>ffffd36adf</td>\n    </tr>\n  </tbody>\n</table>\n<p>671736 rows × 8 columns</p>\n</div>"
     },
     "execution_count": 150,
     "metadata": {},
     "output_type": "execute_result"
    }
   ],
   "source": [
    "# a copy of the dataframe so i dont overwrite\n",
    "succ_movies = netflix_df.copy()\n",
    "succ_movies.drop(['movie_id', 'release_date','datetime'], axis = 1)\n",
    "succ_movies = succ_movies.sort_values([\"user_id\", \"movie_id\", \"datetime\", \"duration\"])\n",
    "succ_movies"
   ],
   "metadata": {
    "collapsed": false,
    "ExecuteTime": {
     "end_time": "2023-12-05T20:24:43.510477700Z",
     "start_time": "2023-12-05T20:24:41.100640100Z"
    }
   },
   "id": "b2c286d8709263e"
  },
  {
   "cell_type": "code",
   "execution_count": 151,
   "outputs": [
    {
     "data": {
      "text/plain": "           user_id    movie_id               title  \\\n0       00004e2862  9bfee795ff            Hannibal   \n1       000052a0a0  43bb6de314          Green Room   \n2       000052a0a0  4718f9963c              Looper   \n3       000052a0a0  4fa0b092d6             Jumanji   \n4       000052a0a0  59d313ed8b             Ant-Man   \n...            ...         ...                 ...   \n502502  fffeac83be  cb6d7afd76         Amanda Knox   \n502503  fffeac83be  dda0eae17b  Enemy at the Gates   \n502504  ffff2c5f9e  6467fee6b6            Hot Fuzz   \n502505  ffff2c5f9e  9ab62a3f2c   Forks Over Knives   \n502506  ffffd36adf  9d1f4fb4fb    Dead Man Walking   \n\n                                    genres  clicks  \n0                   Crime, Drama, Thriller       1  \n1                  Horror, Music, Thriller       1  \n2          Action, Drama, Sci-Fi, Thriller       9  \n3       Adventure, Comedy, Family, Fantasy       3  \n4        Action, Adventure, Comedy, Sci-Fi       1  \n...                                    ...     ...  \n502502                  Documentary, Crime       2  \n502503                 Drama, History, War       1  \n502504   Action, Comedy, Mystery, Thriller       1  \n502505                         Documentary       1  \n502506                        Crime, Drama       1  \n\n[502507 rows x 5 columns]",
      "text/html": "<div>\n<style scoped>\n    .dataframe tbody tr th:only-of-type {\n        vertical-align: middle;\n    }\n\n    .dataframe tbody tr th {\n        vertical-align: top;\n    }\n\n    .dataframe thead th {\n        text-align: right;\n    }\n</style>\n<table border=\"1\" class=\"dataframe\">\n  <thead>\n    <tr style=\"text-align: right;\">\n      <th></th>\n      <th>user_id</th>\n      <th>movie_id</th>\n      <th>title</th>\n      <th>genres</th>\n      <th>clicks</th>\n    </tr>\n  </thead>\n  <tbody>\n    <tr>\n      <th>0</th>\n      <td>00004e2862</td>\n      <td>9bfee795ff</td>\n      <td>Hannibal</td>\n      <td>Crime, Drama, Thriller</td>\n      <td>1</td>\n    </tr>\n    <tr>\n      <th>1</th>\n      <td>000052a0a0</td>\n      <td>43bb6de314</td>\n      <td>Green Room</td>\n      <td>Horror, Music, Thriller</td>\n      <td>1</td>\n    </tr>\n    <tr>\n      <th>2</th>\n      <td>000052a0a0</td>\n      <td>4718f9963c</td>\n      <td>Looper</td>\n      <td>Action, Drama, Sci-Fi, Thriller</td>\n      <td>9</td>\n    </tr>\n    <tr>\n      <th>3</th>\n      <td>000052a0a0</td>\n      <td>4fa0b092d6</td>\n      <td>Jumanji</td>\n      <td>Adventure, Comedy, Family, Fantasy</td>\n      <td>3</td>\n    </tr>\n    <tr>\n      <th>4</th>\n      <td>000052a0a0</td>\n      <td>59d313ed8b</td>\n      <td>Ant-Man</td>\n      <td>Action, Adventure, Comedy, Sci-Fi</td>\n      <td>1</td>\n    </tr>\n    <tr>\n      <th>...</th>\n      <td>...</td>\n      <td>...</td>\n      <td>...</td>\n      <td>...</td>\n      <td>...</td>\n    </tr>\n    <tr>\n      <th>502502</th>\n      <td>fffeac83be</td>\n      <td>cb6d7afd76</td>\n      <td>Amanda Knox</td>\n      <td>Documentary, Crime</td>\n      <td>2</td>\n    </tr>\n    <tr>\n      <th>502503</th>\n      <td>fffeac83be</td>\n      <td>dda0eae17b</td>\n      <td>Enemy at the Gates</td>\n      <td>Drama, History, War</td>\n      <td>1</td>\n    </tr>\n    <tr>\n      <th>502504</th>\n      <td>ffff2c5f9e</td>\n      <td>6467fee6b6</td>\n      <td>Hot Fuzz</td>\n      <td>Action, Comedy, Mystery, Thriller</td>\n      <td>1</td>\n    </tr>\n    <tr>\n      <th>502505</th>\n      <td>ffff2c5f9e</td>\n      <td>9ab62a3f2c</td>\n      <td>Forks Over Knives</td>\n      <td>Documentary</td>\n      <td>1</td>\n    </tr>\n    <tr>\n      <th>502506</th>\n      <td>ffffd36adf</td>\n      <td>9d1f4fb4fb</td>\n      <td>Dead Man Walking</td>\n      <td>Crime, Drama</td>\n      <td>1</td>\n    </tr>\n  </tbody>\n</table>\n<p>502507 rows × 5 columns</p>\n</div>"
     },
     "execution_count": 151,
     "metadata": {},
     "output_type": "execute_result"
    }
   ],
   "source": [
    "# calculating number of clicks\n",
    "#RQ 1,1\n",
    "user_movie_clicks = succ_movies.groupby(['user_id', 'movie_id', 'title','genres']).size().reset_index(name='clicks')\n",
    "\n",
    "user_movie_clicks"
   ],
   "metadata": {
    "collapsed": false,
    "ExecuteTime": {
     "end_time": "2023-12-05T20:24:46.983495900Z",
     "start_time": "2023-12-05T20:24:46.304752Z"
    }
   },
   "id": "7768a7e623efe1c3"
  },
  {
   "cell_type": "code",
   "execution_count": 41,
   "outputs": [
    {
     "data": {
      "text/plain": "           user_id    movie_id                            title  \\\n245742  7cdfd0e14a  40bccd3001                         Twilight   \n69019   23c52f9b50  df00041e47  Monty Python and the Holy Grail   \n175415  59416738c3  cbdf9820bc                           The Ex   \n440212  e06f0be797  3f3b34e56f                      Rush Hour 3   \n144718  49d091aa63  b8a2658c23                      Chalet Girl   \n...            ...         ...                              ...   \n187813  5fdd93fc0c  fba9fa3a5a                        The Beach   \n187812  5fdd462bd5  8c14e58ed6                       Safe Haven   \n187811  5fdc850e43  9a94a918d1                       Cinderella   \n187807  5fdc7f6d2f  6f8ac8a090                           Carrie   \n502506  ffffd36adf  9d1f4fb4fb                 Dead Man Walking   \n\n                                     genres  clicks  \\\n245742              Drama, Fantasy, Romance      88   \n69019            Adventure, Comedy, Fantasy      62   \n175415                      Comedy, Romance      54   \n440212      Action, Comedy, Crime, Thriller      54   \n144718               Comedy, Romance, Sport      48   \n...                                     ...     ...   \n187813  Adventure, Drama, Romance, Thriller       1   \n187812             Drama, Romance, Thriller       1   \n187811      Drama, Family, Fantasy, Romance       1   \n187807      Drama, Horror, Sci-Fi, Thriller       1   \n502506                         Crime, Drama       1   \n\n                         filtered_genres  \n245742             drama fantasy romance  \n69019           adventure comedy fantasy  \n175415                    comedy romance  \n440212      action comedy crime thriller  \n144718              comedy romance sport  \n...                                  ...  \n187813  adventure drama romance thriller  \n187812            drama romance thriller  \n187811      drama family fantasy romance  \n187807       drama horror scifi thriller  \n502506                       crime drama  \n\n[161918 rows x 6 columns]",
      "text/html": "<div>\n<style scoped>\n    .dataframe tbody tr th:only-of-type {\n        vertical-align: middle;\n    }\n\n    .dataframe tbody tr th {\n        vertical-align: top;\n    }\n\n    .dataframe thead th {\n        text-align: right;\n    }\n</style>\n<table border=\"1\" class=\"dataframe\">\n  <thead>\n    <tr style=\"text-align: right;\">\n      <th></th>\n      <th>user_id</th>\n      <th>movie_id</th>\n      <th>title</th>\n      <th>genres</th>\n      <th>clicks</th>\n      <th>filtered_genres</th>\n    </tr>\n  </thead>\n  <tbody>\n    <tr>\n      <th>245742</th>\n      <td>7cdfd0e14a</td>\n      <td>40bccd3001</td>\n      <td>Twilight</td>\n      <td>Drama, Fantasy, Romance</td>\n      <td>88</td>\n      <td>drama fantasy romance</td>\n    </tr>\n    <tr>\n      <th>69019</th>\n      <td>23c52f9b50</td>\n      <td>df00041e47</td>\n      <td>Monty Python and the Holy Grail</td>\n      <td>Adventure, Comedy, Fantasy</td>\n      <td>62</td>\n      <td>adventure comedy fantasy</td>\n    </tr>\n    <tr>\n      <th>175415</th>\n      <td>59416738c3</td>\n      <td>cbdf9820bc</td>\n      <td>The Ex</td>\n      <td>Comedy, Romance</td>\n      <td>54</td>\n      <td>comedy romance</td>\n    </tr>\n    <tr>\n      <th>440212</th>\n      <td>e06f0be797</td>\n      <td>3f3b34e56f</td>\n      <td>Rush Hour 3</td>\n      <td>Action, Comedy, Crime, Thriller</td>\n      <td>54</td>\n      <td>action comedy crime thriller</td>\n    </tr>\n    <tr>\n      <th>144718</th>\n      <td>49d091aa63</td>\n      <td>b8a2658c23</td>\n      <td>Chalet Girl</td>\n      <td>Comedy, Romance, Sport</td>\n      <td>48</td>\n      <td>comedy romance sport</td>\n    </tr>\n    <tr>\n      <th>...</th>\n      <td>...</td>\n      <td>...</td>\n      <td>...</td>\n      <td>...</td>\n      <td>...</td>\n      <td>...</td>\n    </tr>\n    <tr>\n      <th>187813</th>\n      <td>5fdd93fc0c</td>\n      <td>fba9fa3a5a</td>\n      <td>The Beach</td>\n      <td>Adventure, Drama, Romance, Thriller</td>\n      <td>1</td>\n      <td>adventure drama romance thriller</td>\n    </tr>\n    <tr>\n      <th>187812</th>\n      <td>5fdd462bd5</td>\n      <td>8c14e58ed6</td>\n      <td>Safe Haven</td>\n      <td>Drama, Romance, Thriller</td>\n      <td>1</td>\n      <td>drama romance thriller</td>\n    </tr>\n    <tr>\n      <th>187811</th>\n      <td>5fdc850e43</td>\n      <td>9a94a918d1</td>\n      <td>Cinderella</td>\n      <td>Drama, Family, Fantasy, Romance</td>\n      <td>1</td>\n      <td>drama family fantasy romance</td>\n    </tr>\n    <tr>\n      <th>187807</th>\n      <td>5fdc7f6d2f</td>\n      <td>6f8ac8a090</td>\n      <td>Carrie</td>\n      <td>Drama, Horror, Sci-Fi, Thriller</td>\n      <td>1</td>\n      <td>drama horror scifi thriller</td>\n    </tr>\n    <tr>\n      <th>502506</th>\n      <td>ffffd36adf</td>\n      <td>9d1f4fb4fb</td>\n      <td>Dead Man Walking</td>\n      <td>Crime, Drama</td>\n      <td>1</td>\n      <td>crime drama</td>\n    </tr>\n  </tbody>\n</table>\n<p>161918 rows × 6 columns</p>\n</div>"
     },
     "execution_count": 41,
     "metadata": {},
     "output_type": "execute_result"
    }
   ],
   "source": [
    "#Filtering the top movies per user for genres column, to perform hashing\n",
    "import re\n",
    "top_movies_per_user = user_movie_clicks.sort_values('clicks', ascending=False).groupby('user_id').head(10)\n",
    "\n",
    "top_movies_per_user.sort_values(by = ['user_id','clicks'], ascending = False)\n",
    "top_movies_per_user['filtered_genres'] = top_movies_per_user['genres'].apply(lambda x: re.sub(r'[^\\w\\s]', '', x.lower()))\n",
    "\n",
    "top_movies_per_user = top_movies_per_user.drop_duplicates(subset = 'user_id')\n",
    "top_movies_per_user"
   ],
   "metadata": {
    "collapsed": false,
    "ExecuteTime": {
     "end_time": "2023-12-05T17:40:20.443695500Z",
     "start_time": "2023-12-05T17:40:18.057623800Z"
    }
   },
   "id": "6f69684d1ca20794"
  },
  {
   "cell_type": "code",
   "execution_count": 77,
   "outputs": [
    {
     "name": "stdout",
     "output_type": "stream",
     "text": [
      "[['spo', 'por', 'ort'], ['his', 'ist', 'sto', 'tor', 'ory'], ['mus', 'usi', 'sic', 'ica', 'cal'], ['ava', 'vai', 'ail', 'ila', 'lab', 'abl', 'ble'], ['new', 'ews'], ['com', 'ome', 'med', 'edy'], ['mys', 'yst', 'ste', 'ter', 'ery'], ['sci', 'cif', 'ifi'], ['sho', 'hor', 'ort'], ['doc', 'ocu', 'cum', 'ume', 'men', 'ent', 'nta', 'tar', 'ary'], ['bio', 'iog', 'ogr', 'gra', 'rap', 'aph', 'phy'], ['cri', 'rim', 'ime'], ['fan', 'ant', 'nta', 'tas', 'asy'], ['mus', 'usi', 'sic'], ['dra', 'ram', 'ama'], ['hor', 'orr', 'rro', 'ror'], ['fil', 'ilm', 'lmn', 'mno', 'noi', 'oir'], ['not'], ['tal', 'alk', 'lks', 'ksh', 'sho', 'how'], ['ani', 'nim', 'ima', 'mat', 'ati', 'tio', 'ion'], ['thr', 'hri', 'ril', 'ill', 'lle', 'ler'], ['war'], ['wes', 'est', 'ste', 'ter', 'ern'], ['act', 'cti', 'tio', 'ion'], ['rea', 'eal', 'ali', 'lit', 'ity', 'tyt', 'ytv'], ['rom', 'oma', 'man', 'anc', 'nce'], ['fam', 'ami', 'mil', 'ily'], ['adv', 'dve', 'ven', 'ent', 'ntu', 'tur', 'ure']]\n"
     ]
    }
   ],
   "source": [
    "# Shingle creation of genres column for hashing\n",
    "def create_shingle(shingle_size, texts):\n",
    "    \n",
    "    shingles_list = []\n",
    "\n",
    "  \n",
    "    for text in texts:\n",
    "        shingles = [text[i:i + shingle_size] for i in range(len(text) - shingle_size + 1)]\n",
    "        shingles_list.append(shingles)\n",
    "    \n",
    "    return shingles_list\n",
    "\n",
    "\n"
   ],
   "metadata": {
    "collapsed": false
   },
   "id": "8b289b469ac49b97"
  },
  {
   "cell_type": "code",
   "execution_count": 135,
   "outputs": [],
   "source": [
    "\n",
    "def hashing(text,a = 3.91):\n",
    "    hash_val = 0\n",
    "    \n",
    "    for char in text:\n",
    "        hash_val = round((hash_val * 3.91)) + ord(char)\n",
    "    return hash_val\n",
    "    "
   ],
   "metadata": {
    "collapsed": false,
    "ExecuteTime": {
     "end_time": "2023-12-05T19:57:21.352226300Z",
     "start_time": "2023-12-05T19:57:21.166254300Z"
    }
   },
   "id": "f0bc3339db57e0bc"
  },
  {
   "cell_type": "code",
   "execution_count": 115,
   "outputs": [
    {
     "data": {
      "text/plain": "           user_id    movie_id                            title  \\\n245742  7cdfd0e14a  40bccd3001                         Twilight   \n69019   23c52f9b50  df00041e47  Monty Python and the Holy Grail   \n175415  59416738c3  cbdf9820bc                           The Ex   \n440212  e06f0be797  3f3b34e56f                      Rush Hour 3   \n144718  49d091aa63  b8a2658c23                      Chalet Girl   \n...            ...         ...                              ...   \n187813  5fdd93fc0c  fba9fa3a5a                        The Beach   \n187812  5fdd462bd5  8c14e58ed6                       Safe Haven   \n187811  5fdc850e43  9a94a918d1                       Cinderella   \n187807  5fdc7f6d2f  6f8ac8a090                           Carrie   \n502506  ffffd36adf  9d1f4fb4fb                 Dead Man Walking   \n\n                                     genres  clicks  \\\n245742              Drama, Fantasy, Romance      88   \n69019            Adventure, Comedy, Fantasy      62   \n175415                      Comedy, Romance      54   \n440212      Action, Comedy, Crime, Thriller      54   \n144718               Comedy, Romance, Sport      48   \n...                                     ...     ...   \n187813  Adventure, Drama, Romance, Thriller       1   \n187812             Drama, Romance, Thriller       1   \n187811      Drama, Family, Fantasy, Romance       1   \n187807      Drama, Horror, Sci-Fi, Thriller       1   \n502506                         Crime, Drama       1   \n\n                         filtered_genres  \\\n245742             drama fantasy romance   \n69019           adventure comedy fantasy   \n175415                    comedy romance   \n440212      action comedy crime thriller   \n144718              comedy romance sport   \n...                                  ...   \n187813  adventure drama romance thriller   \n187812            drama romance thriller   \n187811      drama family fantasy romance   \n187807       drama horror scifi thriller   \n502506                       crime drama   \n\n                                                 shingles  \n245742  [dra, ram, ama, ma , a f,  fa, fan, ant, nta, ...  \n69019   [adv, dve, ven, ent, ntu, tur, ure, re , e c, ...  \n175415  [com, ome, med, edy, dy , y r,  ro, rom, oma, ...  \n440212  [act, cti, tio, ion, on , n c,  co, com, ome, ...  \n144718  [com, ome, med, edy, dy , y r,  ro, rom, oma, ...  \n...                                                   ...  \n187813  [adv, dve, ven, ent, ntu, tur, ure, re , e d, ...  \n187812  [dra, ram, ama, ma , a r,  ro, rom, oma, man, ...  \n187811  [dra, ram, ama, ma , a f,  fa, fam, ami, mil, ...  \n187807  [dra, ram, ama, ma , a h,  ho, hor, orr, rro, ...  \n502506      [cri, rim, ime, me , e d,  dr, dra, ram, ama]  \n\n[161918 rows x 7 columns]",
      "text/html": "<div>\n<style scoped>\n    .dataframe tbody tr th:only-of-type {\n        vertical-align: middle;\n    }\n\n    .dataframe tbody tr th {\n        vertical-align: top;\n    }\n\n    .dataframe thead th {\n        text-align: right;\n    }\n</style>\n<table border=\"1\" class=\"dataframe\">\n  <thead>\n    <tr style=\"text-align: right;\">\n      <th></th>\n      <th>user_id</th>\n      <th>movie_id</th>\n      <th>title</th>\n      <th>genres</th>\n      <th>clicks</th>\n      <th>filtered_genres</th>\n      <th>shingles</th>\n    </tr>\n  </thead>\n  <tbody>\n    <tr>\n      <th>245742</th>\n      <td>7cdfd0e14a</td>\n      <td>40bccd3001</td>\n      <td>Twilight</td>\n      <td>Drama, Fantasy, Romance</td>\n      <td>88</td>\n      <td>drama fantasy romance</td>\n      <td>[dra, ram, ama, ma , a f,  fa, fan, ant, nta, ...</td>\n    </tr>\n    <tr>\n      <th>69019</th>\n      <td>23c52f9b50</td>\n      <td>df00041e47</td>\n      <td>Monty Python and the Holy Grail</td>\n      <td>Adventure, Comedy, Fantasy</td>\n      <td>62</td>\n      <td>adventure comedy fantasy</td>\n      <td>[adv, dve, ven, ent, ntu, tur, ure, re , e c, ...</td>\n    </tr>\n    <tr>\n      <th>175415</th>\n      <td>59416738c3</td>\n      <td>cbdf9820bc</td>\n      <td>The Ex</td>\n      <td>Comedy, Romance</td>\n      <td>54</td>\n      <td>comedy romance</td>\n      <td>[com, ome, med, edy, dy , y r,  ro, rom, oma, ...</td>\n    </tr>\n    <tr>\n      <th>440212</th>\n      <td>e06f0be797</td>\n      <td>3f3b34e56f</td>\n      <td>Rush Hour 3</td>\n      <td>Action, Comedy, Crime, Thriller</td>\n      <td>54</td>\n      <td>action comedy crime thriller</td>\n      <td>[act, cti, tio, ion, on , n c,  co, com, ome, ...</td>\n    </tr>\n    <tr>\n      <th>144718</th>\n      <td>49d091aa63</td>\n      <td>b8a2658c23</td>\n      <td>Chalet Girl</td>\n      <td>Comedy, Romance, Sport</td>\n      <td>48</td>\n      <td>comedy romance sport</td>\n      <td>[com, ome, med, edy, dy , y r,  ro, rom, oma, ...</td>\n    </tr>\n    <tr>\n      <th>...</th>\n      <td>...</td>\n      <td>...</td>\n      <td>...</td>\n      <td>...</td>\n      <td>...</td>\n      <td>...</td>\n      <td>...</td>\n    </tr>\n    <tr>\n      <th>187813</th>\n      <td>5fdd93fc0c</td>\n      <td>fba9fa3a5a</td>\n      <td>The Beach</td>\n      <td>Adventure, Drama, Romance, Thriller</td>\n      <td>1</td>\n      <td>adventure drama romance thriller</td>\n      <td>[adv, dve, ven, ent, ntu, tur, ure, re , e d, ...</td>\n    </tr>\n    <tr>\n      <th>187812</th>\n      <td>5fdd462bd5</td>\n      <td>8c14e58ed6</td>\n      <td>Safe Haven</td>\n      <td>Drama, Romance, Thriller</td>\n      <td>1</td>\n      <td>drama romance thriller</td>\n      <td>[dra, ram, ama, ma , a r,  ro, rom, oma, man, ...</td>\n    </tr>\n    <tr>\n      <th>187811</th>\n      <td>5fdc850e43</td>\n      <td>9a94a918d1</td>\n      <td>Cinderella</td>\n      <td>Drama, Family, Fantasy, Romance</td>\n      <td>1</td>\n      <td>drama family fantasy romance</td>\n      <td>[dra, ram, ama, ma , a f,  fa, fam, ami, mil, ...</td>\n    </tr>\n    <tr>\n      <th>187807</th>\n      <td>5fdc7f6d2f</td>\n      <td>6f8ac8a090</td>\n      <td>Carrie</td>\n      <td>Drama, Horror, Sci-Fi, Thriller</td>\n      <td>1</td>\n      <td>drama horror scifi thriller</td>\n      <td>[dra, ram, ama, ma , a h,  ho, hor, orr, rro, ...</td>\n    </tr>\n    <tr>\n      <th>502506</th>\n      <td>ffffd36adf</td>\n      <td>9d1f4fb4fb</td>\n      <td>Dead Man Walking</td>\n      <td>Crime, Drama</td>\n      <td>1</td>\n      <td>crime drama</td>\n      <td>[cri, rim, ime, me , e d,  dr, dra, ram, ama]</td>\n    </tr>\n  </tbody>\n</table>\n<p>161918 rows × 7 columns</p>\n</div>"
     },
     "execution_count": 115,
     "metadata": {},
     "output_type": "execute_result"
    }
   ],
   "source": [
    "\n",
    "top_movies_per_user['shingles'] = create_shingle(shingle_size=3, texts=top_movies_per_user['filtered_genres'].tolist())\n",
    "\n",
    "top_movies_per_user"
   ],
   "metadata": {
    "collapsed": false,
    "ExecuteTime": {
     "end_time": "2023-12-05T19:17:59.772546500Z",
     "start_time": "2023-12-05T19:17:58.431653500Z"
    }
   },
   "id": "5d5453c61dc13427"
  },
  {
   "cell_type": "code",
   "execution_count": 147,
   "outputs": [
    {
     "ename": "TypeError",
     "evalue": "ord() expected a character, but string of length 3 found",
     "output_type": "error",
     "traceback": [
      "\u001B[1;31m---------------------------------------------------------------------------\u001B[0m",
      "\u001B[1;31mTypeError\u001B[0m                                 Traceback (most recent call last)",
      "Cell \u001B[1;32mIn[147], line 12\u001B[0m\n\u001B[0;32m      8\u001B[0m     \u001B[38;5;28;01mreturn\u001B[39;00m mh_sig\n\u001B[0;32m     10\u001B[0m num_hashes \u001B[38;5;241m=\u001B[39m \u001B[38;5;241m50\u001B[39m\n\u001B[1;32m---> 12\u001B[0m top_movies_per_user[\u001B[38;5;124m'\u001B[39m\u001B[38;5;124mminhash_sig\u001B[39m\u001B[38;5;124m'\u001B[39m] \u001B[38;5;241m=\u001B[39m top_movies_per_user[\u001B[38;5;124m'\u001B[39m\u001B[38;5;124mshingles\u001B[39m\u001B[38;5;124m'\u001B[39m]\u001B[38;5;241m.\u001B[39mapply(\u001B[38;5;28;01mlambda\u001B[39;00m x: min_hashing(x,num_hashes,hashing))\n",
      "File \u001B[1;32m~\\anaconda3\\Lib\\site-packages\\pandas\\core\\series.py:4771\u001B[0m, in \u001B[0;36mSeries.apply\u001B[1;34m(self, func, convert_dtype, args, **kwargs)\u001B[0m\n\u001B[0;32m   4661\u001B[0m \u001B[38;5;28;01mdef\u001B[39;00m \u001B[38;5;21mapply\u001B[39m(\n\u001B[0;32m   4662\u001B[0m     \u001B[38;5;28mself\u001B[39m,\n\u001B[0;32m   4663\u001B[0m     func: AggFuncType,\n\u001B[1;32m   (...)\u001B[0m\n\u001B[0;32m   4666\u001B[0m     \u001B[38;5;241m*\u001B[39m\u001B[38;5;241m*\u001B[39mkwargs,\n\u001B[0;32m   4667\u001B[0m ) \u001B[38;5;241m-\u001B[39m\u001B[38;5;241m>\u001B[39m DataFrame \u001B[38;5;241m|\u001B[39m Series:\n\u001B[0;32m   4668\u001B[0m \u001B[38;5;250m    \u001B[39m\u001B[38;5;124;03m\"\"\"\u001B[39;00m\n\u001B[0;32m   4669\u001B[0m \u001B[38;5;124;03m    Invoke function on values of Series.\u001B[39;00m\n\u001B[0;32m   4670\u001B[0m \n\u001B[1;32m   (...)\u001B[0m\n\u001B[0;32m   4769\u001B[0m \u001B[38;5;124;03m    dtype: float64\u001B[39;00m\n\u001B[0;32m   4770\u001B[0m \u001B[38;5;124;03m    \"\"\"\u001B[39;00m\n\u001B[1;32m-> 4771\u001B[0m     \u001B[38;5;28;01mreturn\u001B[39;00m SeriesApply(\u001B[38;5;28mself\u001B[39m, func, convert_dtype, args, kwargs)\u001B[38;5;241m.\u001B[39mapply()\n",
      "File \u001B[1;32m~\\anaconda3\\Lib\\site-packages\\pandas\\core\\apply.py:1123\u001B[0m, in \u001B[0;36mSeriesApply.apply\u001B[1;34m(self)\u001B[0m\n\u001B[0;32m   1120\u001B[0m     \u001B[38;5;28;01mreturn\u001B[39;00m \u001B[38;5;28mself\u001B[39m\u001B[38;5;241m.\u001B[39mapply_str()\n\u001B[0;32m   1122\u001B[0m \u001B[38;5;66;03m# self.f is Callable\u001B[39;00m\n\u001B[1;32m-> 1123\u001B[0m \u001B[38;5;28;01mreturn\u001B[39;00m \u001B[38;5;28mself\u001B[39m\u001B[38;5;241m.\u001B[39mapply_standard()\n",
      "File \u001B[1;32m~\\anaconda3\\Lib\\site-packages\\pandas\\core\\apply.py:1174\u001B[0m, in \u001B[0;36mSeriesApply.apply_standard\u001B[1;34m(self)\u001B[0m\n\u001B[0;32m   1172\u001B[0m     \u001B[38;5;28;01melse\u001B[39;00m:\n\u001B[0;32m   1173\u001B[0m         values \u001B[38;5;241m=\u001B[39m obj\u001B[38;5;241m.\u001B[39mastype(\u001B[38;5;28mobject\u001B[39m)\u001B[38;5;241m.\u001B[39m_values\n\u001B[1;32m-> 1174\u001B[0m         mapped \u001B[38;5;241m=\u001B[39m lib\u001B[38;5;241m.\u001B[39mmap_infer(\n\u001B[0;32m   1175\u001B[0m             values,\n\u001B[0;32m   1176\u001B[0m             f,\n\u001B[0;32m   1177\u001B[0m             convert\u001B[38;5;241m=\u001B[39m\u001B[38;5;28mself\u001B[39m\u001B[38;5;241m.\u001B[39mconvert_dtype,\n\u001B[0;32m   1178\u001B[0m         )\n\u001B[0;32m   1180\u001B[0m \u001B[38;5;28;01mif\u001B[39;00m \u001B[38;5;28mlen\u001B[39m(mapped) \u001B[38;5;129;01mand\u001B[39;00m \u001B[38;5;28misinstance\u001B[39m(mapped[\u001B[38;5;241m0\u001B[39m], ABCSeries):\n\u001B[0;32m   1181\u001B[0m     \u001B[38;5;66;03m# GH#43986 Need to do list(mapped) in order to get treated as nested\u001B[39;00m\n\u001B[0;32m   1182\u001B[0m     \u001B[38;5;66;03m#  See also GH#25959 regarding EA support\u001B[39;00m\n\u001B[0;32m   1183\u001B[0m     \u001B[38;5;28;01mreturn\u001B[39;00m obj\u001B[38;5;241m.\u001B[39m_constructor_expanddim(\u001B[38;5;28mlist\u001B[39m(mapped), index\u001B[38;5;241m=\u001B[39mobj\u001B[38;5;241m.\u001B[39mindex)\n",
      "File \u001B[1;32m~\\anaconda3\\Lib\\site-packages\\pandas\\_libs\\lib.pyx:2924\u001B[0m, in \u001B[0;36mpandas._libs.lib.map_infer\u001B[1;34m()\u001B[0m\n",
      "Cell \u001B[1;32mIn[147], line 12\u001B[0m, in \u001B[0;36m<lambda>\u001B[1;34m(x)\u001B[0m\n\u001B[0;32m      8\u001B[0m     \u001B[38;5;28;01mreturn\u001B[39;00m mh_sig\n\u001B[0;32m     10\u001B[0m num_hashes \u001B[38;5;241m=\u001B[39m \u001B[38;5;241m50\u001B[39m\n\u001B[1;32m---> 12\u001B[0m top_movies_per_user[\u001B[38;5;124m'\u001B[39m\u001B[38;5;124mminhash_sig\u001B[39m\u001B[38;5;124m'\u001B[39m] \u001B[38;5;241m=\u001B[39m top_movies_per_user[\u001B[38;5;124m'\u001B[39m\u001B[38;5;124mshingles\u001B[39m\u001B[38;5;124m'\u001B[39m]\u001B[38;5;241m.\u001B[39mapply(\u001B[38;5;28;01mlambda\u001B[39;00m x: min_hashing(x,num_hashes,hashing))\n",
      "Cell \u001B[1;32mIn[147], line 6\u001B[0m, in \u001B[0;36mmin_hashing\u001B[1;34m(shingle, num_hashes, hashing)\u001B[0m\n\u001B[0;32m      4\u001B[0m \u001B[38;5;28;01mdef\u001B[39;00m \u001B[38;5;21mmin_hashing\u001B[39m(shingle, num_hashes,hashing):\n\u001B[0;32m      5\u001B[0m     np\u001B[38;5;241m.\u001B[39mrandom\u001B[38;5;241m.\u001B[39mseed(\u001B[38;5;241m43\u001B[39m) \n\u001B[1;32m----> 6\u001B[0m     hash_values \u001B[38;5;241m=\u001B[39m [hashing(char \u001B[38;5;28;01mfor\u001B[39;00m char \u001B[38;5;129;01min\u001B[39;00m shingle)]\n\u001B[0;32m      7\u001B[0m     mh_sig \u001B[38;5;241m=\u001B[39m [\u001B[38;5;28mmin\u001B[39m((hash_value \u001B[38;5;241m*\u001B[39m i \u001B[38;5;241m+\u001B[39m \u001B[38;5;241m1\u001B[39m) \u001B[38;5;241m%\u001B[39m \u001B[38;5;241m1000000\u001B[39m \u001B[38;5;28;01mfor\u001B[39;00m hash_value \u001B[38;5;129;01min\u001B[39;00m hash_values) \u001B[38;5;28;01mfor\u001B[39;00m i \u001B[38;5;129;01min\u001B[39;00m \u001B[38;5;28mrange\u001B[39m(\u001B[38;5;241m1\u001B[39m, num_hashes \u001B[38;5;241m+\u001B[39m \u001B[38;5;241m1\u001B[39m)]\n\u001B[0;32m      8\u001B[0m     \u001B[38;5;28;01mreturn\u001B[39;00m mh_sig\n",
      "Cell \u001B[1;32mIn[135], line 5\u001B[0m, in \u001B[0;36mhashing\u001B[1;34m(text, a)\u001B[0m\n\u001B[0;32m      2\u001B[0m hash_val \u001B[38;5;241m=\u001B[39m \u001B[38;5;241m0\u001B[39m\n\u001B[0;32m      4\u001B[0m \u001B[38;5;28;01mfor\u001B[39;00m char \u001B[38;5;129;01min\u001B[39;00m text:\n\u001B[1;32m----> 5\u001B[0m     hash_val \u001B[38;5;241m=\u001B[39m \u001B[38;5;28mround\u001B[39m((hash_val \u001B[38;5;241m*\u001B[39m \u001B[38;5;241m3.91\u001B[39m)) \u001B[38;5;241m+\u001B[39m \u001B[38;5;28mord\u001B[39m(char)\n\u001B[0;32m      6\u001B[0m \u001B[38;5;28;01mreturn\u001B[39;00m hash_val\n",
      "\u001B[1;31mTypeError\u001B[0m: ord() expected a character, but string of length 3 found"
     ]
    }
   ],
   "source": [
    "\n",
    "\n",
    "def min_hashing(shingle, num_hashes,hashing):\n",
    "    np.random.seed(43) \n",
    "    hash_values = [hashing(char for char in shingle)]\n",
    "    mh_sig = [min((hash_value * i + 1) % 1000000 for hash_value in hash_values) for i in range(1, num_hashes + 1)]\n",
    "    return mh_sig\n",
    "\n",
    "num_hashes = 50\n",
    "\n",
    "top_movies_per_user['minhash_sig'] = top_movies_per_user['shingles'].apply(lambda x: min_hashing(x,num_hashes,hashing))\n",
    "\n"
   ],
   "metadata": {
    "collapsed": false,
    "ExecuteTime": {
     "end_time": "2023-12-05T20:18:45.145862800Z",
     "start_time": "2023-12-05T20:18:44.969125100Z"
    }
   },
   "id": "4803560410b75b64"
  },
  {
   "cell_type": "code",
   "execution_count": 140,
   "outputs": [],
   "source": [
    " \n"
   ],
   "metadata": {
    "collapsed": false,
    "ExecuteTime": {
     "end_time": "2023-12-05T20:12:26.236893500Z",
     "start_time": "2023-12-05T20:12:26.177505900Z"
    }
   },
   "id": "65d384f7b14e4671"
  },
  {
   "cell_type": "code",
   "execution_count": 139,
   "outputs": [
    {
     "data": {
      "text/plain": "           user_id    movie_id                            title  \\\n245742  7cdfd0e14a  40bccd3001                         Twilight   \n69019   23c52f9b50  df00041e47  Monty Python and the Holy Grail   \n175415  59416738c3  cbdf9820bc                           The Ex   \n440212  e06f0be797  3f3b34e56f                      Rush Hour 3   \n144718  49d091aa63  b8a2658c23                      Chalet Girl   \n...            ...         ...                              ...   \n187813  5fdd93fc0c  fba9fa3a5a                        The Beach   \n187812  5fdd462bd5  8c14e58ed6                       Safe Haven   \n187811  5fdc850e43  9a94a918d1                       Cinderella   \n187807  5fdc7f6d2f  6f8ac8a090                           Carrie   \n502506  ffffd36adf  9d1f4fb4fb                 Dead Man Walking   \n\n                                     genres  clicks  \\\n245742              Drama, Fantasy, Romance      88   \n69019            Adventure, Comedy, Fantasy      62   \n175415                      Comedy, Romance      54   \n440212      Action, Comedy, Crime, Thriller      54   \n144718               Comedy, Romance, Sport      48   \n...                                     ...     ...   \n187813  Adventure, Drama, Romance, Thriller       1   \n187812             Drama, Romance, Thriller       1   \n187811      Drama, Family, Fantasy, Romance       1   \n187807      Drama, Horror, Sci-Fi, Thriller       1   \n502506                         Crime, Drama       1   \n\n                         filtered_genres  \\\n245742             drama fantasy romance   \n69019           adventure comedy fantasy   \n175415                    comedy romance   \n440212      action comedy crime thriller   \n144718              comedy romance sport   \n...                                  ...   \n187813  adventure drama romance thriller   \n187812            drama romance thriller   \n187811      drama family fantasy romance   \n187807       drama horror scifi thriller   \n502506                       crime drama   \n\n                                                 shingles  \\\n245742  [dra, ram, ama, ma , a f,  fa, fan, ant, nta, ...   \n69019   [adv, dve, ven, ent, ntu, tur, ure, re , e c, ...   \n175415  [com, ome, med, edy, dy , y r,  ro, rom, oma, ...   \n440212  [act, cti, tio, ion, on , n c,  co, com, ome, ...   \n144718  [com, ome, med, edy, dy , y r,  ro, rom, oma, ...   \n...                                                   ...   \n187813  [adv, dve, ven, ent, ntu, tur, ure, re , e d, ...   \n187812  [dra, ram, ama, ma , a r,  ro, rom, oma, man, ...   \n187811  [dra, ram, ama, ma , a f,  fa, fam, ami, mil, ...   \n187807  [dra, ram, ama, ma , a h,  ho, hor, orr, rro, ...   \n502506      [cri, rim, ime, me , e d,  dr, dra, ram, ama]   \n\n                                              minhash_sig  \n245742  [985, 1970, 2955, 3940, 4925, 5910, 6895, 7880...  \n69019   [985, 1970, 2955, 3940, 4925, 5910, 6895, 7880...  \n175415  [1045, 2090, 3135, 4180, 5225, 6270, 7315, 836...  \n440212  [987, 1974, 2961, 3948, 4935, 5922, 6909, 7896...  \n144718  [1045, 2090, 3135, 4180, 5225, 6270, 7315, 836...  \n...                                                   ...  \n187813  [994, 1988, 2982, 3976, 4970, 5964, 6958, 7952...  \n187812  [1045, 2090, 3135, 4180, 5225, 6270, 7315, 836...  \n187811  [985, 1970, 2955, 3940, 4925, 5910, 6895, 7880...  \n187807  [1006, 2012, 3018, 4024, 5030, 6036, 7042, 804...  \n502506  [994, 1988, 2982, 3976, 4970, 5964, 6958, 7952...  \n\n[161918 rows x 8 columns]",
      "text/html": "<div>\n<style scoped>\n    .dataframe tbody tr th:only-of-type {\n        vertical-align: middle;\n    }\n\n    .dataframe tbody tr th {\n        vertical-align: top;\n    }\n\n    .dataframe thead th {\n        text-align: right;\n    }\n</style>\n<table border=\"1\" class=\"dataframe\">\n  <thead>\n    <tr style=\"text-align: right;\">\n      <th></th>\n      <th>user_id</th>\n      <th>movie_id</th>\n      <th>title</th>\n      <th>genres</th>\n      <th>clicks</th>\n      <th>filtered_genres</th>\n      <th>shingles</th>\n      <th>minhash_sig</th>\n    </tr>\n  </thead>\n  <tbody>\n    <tr>\n      <th>245742</th>\n      <td>7cdfd0e14a</td>\n      <td>40bccd3001</td>\n      <td>Twilight</td>\n      <td>Drama, Fantasy, Romance</td>\n      <td>88</td>\n      <td>drama fantasy romance</td>\n      <td>[dra, ram, ama, ma , a f,  fa, fan, ant, nta, ...</td>\n      <td>[985, 1970, 2955, 3940, 4925, 5910, 6895, 7880...</td>\n    </tr>\n    <tr>\n      <th>69019</th>\n      <td>23c52f9b50</td>\n      <td>df00041e47</td>\n      <td>Monty Python and the Holy Grail</td>\n      <td>Adventure, Comedy, Fantasy</td>\n      <td>62</td>\n      <td>adventure comedy fantasy</td>\n      <td>[adv, dve, ven, ent, ntu, tur, ure, re , e c, ...</td>\n      <td>[985, 1970, 2955, 3940, 4925, 5910, 6895, 7880...</td>\n    </tr>\n    <tr>\n      <th>175415</th>\n      <td>59416738c3</td>\n      <td>cbdf9820bc</td>\n      <td>The Ex</td>\n      <td>Comedy, Romance</td>\n      <td>54</td>\n      <td>comedy romance</td>\n      <td>[com, ome, med, edy, dy , y r,  ro, rom, oma, ...</td>\n      <td>[1045, 2090, 3135, 4180, 5225, 6270, 7315, 836...</td>\n    </tr>\n    <tr>\n      <th>440212</th>\n      <td>e06f0be797</td>\n      <td>3f3b34e56f</td>\n      <td>Rush Hour 3</td>\n      <td>Action, Comedy, Crime, Thriller</td>\n      <td>54</td>\n      <td>action comedy crime thriller</td>\n      <td>[act, cti, tio, ion, on , n c,  co, com, ome, ...</td>\n      <td>[987, 1974, 2961, 3948, 4935, 5922, 6909, 7896...</td>\n    </tr>\n    <tr>\n      <th>144718</th>\n      <td>49d091aa63</td>\n      <td>b8a2658c23</td>\n      <td>Chalet Girl</td>\n      <td>Comedy, Romance, Sport</td>\n      <td>48</td>\n      <td>comedy romance sport</td>\n      <td>[com, ome, med, edy, dy , y r,  ro, rom, oma, ...</td>\n      <td>[1045, 2090, 3135, 4180, 5225, 6270, 7315, 836...</td>\n    </tr>\n    <tr>\n      <th>...</th>\n      <td>...</td>\n      <td>...</td>\n      <td>...</td>\n      <td>...</td>\n      <td>...</td>\n      <td>...</td>\n      <td>...</td>\n      <td>...</td>\n    </tr>\n    <tr>\n      <th>187813</th>\n      <td>5fdd93fc0c</td>\n      <td>fba9fa3a5a</td>\n      <td>The Beach</td>\n      <td>Adventure, Drama, Romance, Thriller</td>\n      <td>1</td>\n      <td>adventure drama romance thriller</td>\n      <td>[adv, dve, ven, ent, ntu, tur, ure, re , e d, ...</td>\n      <td>[994, 1988, 2982, 3976, 4970, 5964, 6958, 7952...</td>\n    </tr>\n    <tr>\n      <th>187812</th>\n      <td>5fdd462bd5</td>\n      <td>8c14e58ed6</td>\n      <td>Safe Haven</td>\n      <td>Drama, Romance, Thriller</td>\n      <td>1</td>\n      <td>drama romance thriller</td>\n      <td>[dra, ram, ama, ma , a r,  ro, rom, oma, man, ...</td>\n      <td>[1045, 2090, 3135, 4180, 5225, 6270, 7315, 836...</td>\n    </tr>\n    <tr>\n      <th>187811</th>\n      <td>5fdc850e43</td>\n      <td>9a94a918d1</td>\n      <td>Cinderella</td>\n      <td>Drama, Family, Fantasy, Romance</td>\n      <td>1</td>\n      <td>drama family fantasy romance</td>\n      <td>[dra, ram, ama, ma , a f,  fa, fam, ami, mil, ...</td>\n      <td>[985, 1970, 2955, 3940, 4925, 5910, 6895, 7880...</td>\n    </tr>\n    <tr>\n      <th>187807</th>\n      <td>5fdc7f6d2f</td>\n      <td>6f8ac8a090</td>\n      <td>Carrie</td>\n      <td>Drama, Horror, Sci-Fi, Thriller</td>\n      <td>1</td>\n      <td>drama horror scifi thriller</td>\n      <td>[dra, ram, ama, ma , a h,  ho, hor, orr, rro, ...</td>\n      <td>[1006, 2012, 3018, 4024, 5030, 6036, 7042, 804...</td>\n    </tr>\n    <tr>\n      <th>502506</th>\n      <td>ffffd36adf</td>\n      <td>9d1f4fb4fb</td>\n      <td>Dead Man Walking</td>\n      <td>Crime, Drama</td>\n      <td>1</td>\n      <td>crime drama</td>\n      <td>[cri, rim, ime, me , e d,  dr, dra, ram, ama]</td>\n      <td>[994, 1988, 2982, 3976, 4970, 5964, 6958, 7952...</td>\n    </tr>\n  </tbody>\n</table>\n<p>161918 rows × 8 columns</p>\n</div>"
     },
     "execution_count": 139,
     "metadata": {},
     "output_type": "execute_result"
    }
   ],
   "source": [
    "top_movies_per_user"
   ],
   "metadata": {
    "collapsed": false,
    "ExecuteTime": {
     "end_time": "2023-12-05T20:08:53.280182300Z",
     "start_time": "2023-12-05T20:08:53.259145600Z"
    }
   },
   "id": "bcabde8a7115a008"
  },
  {
   "cell_type": "code",
   "execution_count": null,
   "outputs": [],
   "source": [
    "\n",
    "def jaccard(set1, set2):\n",
    "    inters = set1.intersection(set2)\n",
    "    union = set1.union(set2)\n",
    "    return len(inters) / len(union) if union != 0 else 0.0\n",
    "\n"
   ],
   "metadata": {
    "collapsed": false
   },
   "id": "74525f7df811ecfb"
  }
 ],
 "metadata": {
  "kernelspec": {
   "display_name": "Python 3",
   "language": "python",
   "name": "python3"
  },
  "language_info": {
   "codemirror_mode": {
    "name": "ipython",
    "version": 2
   },
   "file_extension": ".py",
   "mimetype": "text/x-python",
   "name": "python",
   "nbconvert_exporter": "python",
   "pygments_lexer": "ipython2",
   "version": "2.7.6"
  }
 },
 "nbformat": 4,
 "nbformat_minor": 5
}
