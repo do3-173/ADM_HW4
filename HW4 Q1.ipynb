{
 "cells": [
  {
   "cell_type": "code",
   "execution_count": 1,
   "id": "initial_id",
   "metadata": {
    "collapsed": true,
    "ExecuteTime": {
     "end_time": "2023-12-15T16:49:34.481921800Z",
     "start_time": "2023-12-15T16:49:33.221214900Z"
    }
   },
   "outputs": [],
   "source": [
    "from tqdm import tqdm\n",
    "\n",
    "import pandas as pd\n",
    "import numpy as np\n",
    "import random"
   ]
  },
  {
   "cell_type": "code",
   "execution_count": 151,
   "outputs": [],
   "source": [
    "#Reading the initial dataframe\n",
    "netflix_df = pd.read_csv(r'C:\\Users\\ahmad\\Desktop\\sap\\adm\\HW4\\archive (1)\\vodclickstream_uk_movies_03.csv')\n",
    "\n"
   ],
   "metadata": {
    "collapsed": false,
    "ExecuteTime": {
     "end_time": "2023-12-15T19:01:50.839311200Z",
     "start_time": "2023-12-15T19:01:49.171858900Z"
    }
   },
   "id": "16c7489efe7926de"
  },
  {
   "cell_type": "code",
   "execution_count": 152,
   "outputs": [],
   "source": [
    "# a copy of the dataframe so i dont overwrite\n",
    "succ_movies = netflix_df.copy()\n",
    "succ_movies.drop(['movie_id', 'release_date','datetime'], axis = 1)\n",
    "succ_movies = succ_movies.sort_values([\"user_id\", \"movie_id\", \"datetime\", \"duration\"])\n"
   ],
   "metadata": {
    "collapsed": false,
    "ExecuteTime": {
     "end_time": "2023-12-15T19:01:57.312568600Z",
     "start_time": "2023-12-15T19:01:55.077346200Z"
    }
   },
   "id": "b2c286d8709263e"
  },
  {
   "cell_type": "code",
   "execution_count": 153,
   "outputs": [],
   "source": [
    "# calculating number of clicks for every user for every movie\n",
    "#RQ 1,1\n",
    "user_movie_clicks = succ_movies.groupby(['user_id', 'movie_id', 'title','genres']).size().reset_index(name='clicks')\n",
    "\n"
   ],
   "metadata": {
    "collapsed": false,
    "ExecuteTime": {
     "end_time": "2023-12-15T19:02:00.537718300Z",
     "start_time": "2023-12-15T19:01:59.753490200Z"
    }
   },
   "id": "7768a7e623efe1c3"
  },
  {
   "cell_type": "code",
   "execution_count": 154,
   "outputs": [],
   "source": [
    "#Filtering the top movies per user for genres column, to perform hashing\n",
    "import re\n",
    "top_movies_per_user = user_movie_clicks.sort_values('clicks', ascending=False).groupby('user_id').head(10)\n",
    "\n",
    "top_movies_per_user.sort_values(by = ['user_id','clicks'], ascending = False)\n",
    "top_movies_per_user['filtered_genres'] = top_movies_per_user['genres'].apply(lambda x: re.sub(r'[^\\w\\s]', '', x.lower()))\n",
    "\n",
    "top_movies_per_user.drop_duplicates(subset='user_id', keep='first', inplace=True)\n",
    "\n"
   ],
   "metadata": {
    "collapsed": false,
    "ExecuteTime": {
     "end_time": "2023-12-15T19:02:06.167608900Z",
     "start_time": "2023-12-15T19:02:04.012923600Z"
    }
   },
   "id": "6f69684d1ca20794"
  },
  {
   "cell_type": "code",
   "execution_count": 155,
   "outputs": [],
   "source": [
    "def hashing(nums, a=31):\n",
    "    hash_val = 0\n",
    "    \n",
    "    for num in nums:\n",
    "        \n",
    "        for char in str(num):\n",
    "            #  'hash_val * a' scales the current hash\n",
    "            # ord converts string into ascii value\n",
    "            hash_val = (hash_val * a + ord(char)) \n",
    "    return hash_val\n"
   ],
   "metadata": {
    "collapsed": false,
    "ExecuteTime": {
     "end_time": "2023-12-15T19:02:08.058902100Z",
     "start_time": "2023-12-15T19:02:08.015595700Z"
    }
   },
   "id": "f0bc3339db57e0bc"
  },
  {
   "cell_type": "markdown",
   "source": [],
   "metadata": {
    "collapsed": false
   },
   "id": "9f814a14205cdf30"
  },
  {
   "cell_type": "code",
   "execution_count": 158,
   "outputs": [],
   "source": [
    "#considering the single genre itself as a shingle, sufficient enough for our engine\n",
    "top_movies_per_user['shingles'] = top_movies_per_user['filtered_genres'].str.split()\n",
    "\n"
   ],
   "metadata": {
    "collapsed": false,
    "ExecuteTime": {
     "end_time": "2023-12-15T19:02:30.843319200Z",
     "start_time": "2023-12-15T19:02:30.451779400Z"
    }
   },
   "id": "5d5453c61dc13427"
  },
  {
   "cell_type": "code",
   "execution_count": 15,
   "outputs": [],
   "source": [
    "#creating a list of unique genres from our dataframe\n",
    "genres_list = top_movies_per_user['filtered_genres'].to_list()\n",
    "genres_set = set()\n",
    "\n",
    "for gl in genres_list:\n",
    "    genres = gl.split()\n",
    "    genres_set.update(genres)\n",
    "\n",
    "genres_set = list(genres_set)\n",
    "    "
   ],
   "metadata": {
    "collapsed": false,
    "ExecuteTime": {
     "end_time": "2023-12-15T16:49:47.099510900Z",
     "start_time": "2023-12-15T16:49:46.851102Z"
    }
   },
   "id": "af7e1f720b2f6e6a"
  },
  {
   "cell_type": "code",
   "execution_count": 16,
   "outputs": [
    {
     "name": "stderr",
     "output_type": "stream",
     "text": [
      "Filling Signature Matrix: 100%|██████████| 161918/161918 [00:19<00:00, 8490.47it/s]\n"
     ]
    }
   ],
   "source": [
    "\n",
    "#creating a unique list of user ids\n",
    "\n",
    "unique_users_list = top_movies_per_user['user_id'].unique().tolist()\n",
    "\n",
    "#Initializing our characteristic matrix with zeros\n",
    "char_matrix = pd.DataFrame(0, index=unique_users_list, columns=list(genres_set))\n",
    "\n",
    "#the column indexes will be genres and for the rows it will be the user ids\n",
    "#putting 1 where we have a user with a  certain genre\n",
    "for index, row in tqdm(top_movies_per_user.iterrows(), total=len(top_movies_per_user), desc=\"Filling Signature Matrix\"):\n",
    "    user_id = row['user_id']\n",
    "    genres = row['filtered_genres'].split()\n",
    "    \n",
    "    for genre in genres:\n",
    "        value_to_set = 1\n",
    "        char_matrix.at[user_id, genre] = value_to_set"
   ],
   "metadata": {
    "collapsed": false,
    "ExecuteTime": {
     "end_time": "2023-12-15T16:50:06.214649Z",
     "start_time": "2023-12-15T16:49:46.931821800Z"
    }
   },
   "id": "e8af5656fc9d1b36"
  },
  {
   "cell_type": "markdown",
   "source": [
    "After creating our characteristic matrix we have to create our signature matrix using minhashing."
   ],
   "metadata": {
    "collapsed": false
   },
   "id": "8e34531f0959c643"
  },
  {
   "cell_type": "code",
   "execution_count": null,
   "outputs": [],
   "source": [],
   "metadata": {
    "collapsed": false
   },
   "id": "b940387ac5f0ae15"
  },
  {
   "cell_type": "code",
   "execution_count": 1,
   "outputs": [],
   "source": [
    "#Creating a minhash function to perform it on our characteristic matrix\n",
    "def min_hashing(char_matrix, hashing, num_hashes):\n",
    "    # initialize the signature matrix with infinity\n",
    "    signature_matrix = pd.DataFrame(np.inf, index=char_matrix.index, columns=range(num_hashes))\n",
    "\n",
    "    # For each hash function, compute the min hash across all genres for each user\n",
    "    for user in tqdm(char_matrix.index, desc=\"Computing MinHash for each user\"):\n",
    "        for i in range(num_hashes):\n",
    "            #computing the minimum hash value for the user and current hash function \n",
    "            #if the user has a mark for 1 in the characteristic matrix, calculate hash and track minimum\n",
    "            min_hash = min([hashing(genre) * (i + 1) % 1000000 for genre in char_matrix.columns if char_matrix.at[user, genre] == 1])\n",
    "            #we have to ensure a unique hash for every function \n",
    "            signature_matrix.at[user, i] = min_hash\n",
    "            #update minimum hash value for this user and hash function \n",
    "    return signature_matrix\n"
   ],
   "metadata": {
    "collapsed": false,
    "ExecuteTime": {
     "end_time": "2023-12-17T16:04:49.551650100Z",
     "start_time": "2023-12-17T16:04:49.521746500Z"
    }
   },
   "id": "5af5ed97a34428df"
  },
  {
   "cell_type": "code",
   "execution_count": 19,
   "outputs": [
    {
     "name": "stderr",
     "output_type": "stream",
     "text": [
      "Computing MinHash for each user: 100%|██████████| 161918/161918 [12:20<00:00, 218.77it/s]\n"
     ]
    }
   ],
   "source": [
    "num_hashes = 30  #arbitrary number of hashes\n",
    "signature_matrix = min_hashing(char_matrix, hashing,num_hashes)\n"
   ],
   "metadata": {
    "collapsed": false,
    "ExecuteTime": {
     "end_time": "2023-12-15T17:02:26.560335500Z",
     "start_time": "2023-12-15T16:50:06.391944800Z"
    }
   },
   "id": "8a528e289454a943"
  },
  {
   "cell_type": "code",
   "execution_count": 24,
   "outputs": [
    {
     "data": {
      "text/plain": "                  0         1         2         3         4         5   \\\n7cdfd0e14a  543078.0   86156.0  534901.0  172312.0  224835.0   69802.0   \n23c52f9b50  144281.0   86156.0  432843.0  172312.0  715390.0   83744.0   \n59416738c3  144281.0  288562.0  432843.0  577124.0  588955.0  506746.0   \ne06f0be797   16438.0   32876.0   49314.0   65752.0   82190.0   98628.0   \n49d091aa63  144281.0  288562.0  432843.0  577124.0  259140.0  506746.0   \n...              ...       ...       ...       ...       ...       ...   \n5fdd93fc0c  180624.0  274160.0  534901.0  379868.0  185400.0   69802.0   \n5fdd462bd5  637080.0  274160.0  534901.0  379868.0  185400.0   69802.0   \n5fdc850e43  106532.0   86156.0  319596.0  172312.0  224835.0   69802.0   \n5fdc7f6d2f  258396.0  274160.0  355454.0   33584.0  185400.0   69802.0   \nffffd36adf  844967.0  689934.0  534901.0  379868.0  224835.0   69802.0   \n\n                  6         7         8         9   ...        20        21  \\\n7cdfd0e14a  424537.0  342328.0  260119.0  177910.0  ...  273611.0  191402.0   \n23c52f9b50    9967.0  154248.0  298529.0  430780.0  ...   29901.0  174182.0   \n59416738c3    9967.0  154248.0  260119.0  177910.0  ...   29901.0  174182.0   \ne06f0be797    9967.0   96640.0  147942.0  164380.0  ...   29901.0   15760.0   \n49d091aa63    9967.0  154248.0  260119.0  177910.0  ...   29901.0  174182.0   \n...              ...       ...       ...       ...  ...       ...       ...   \n5fdd93fc0c  264368.0   96640.0  260119.0  177910.0  ...  273611.0   15760.0   \n5fdd462bd5  424537.0   96640.0  260119.0  177910.0  ...  273611.0   15760.0   \n5fdc850e43  424537.0  342328.0  260119.0   65320.0  ...  237172.0  191402.0   \n5fdc7f6d2f  162726.0   67168.0   66362.0  370800.0  ...  378680.0   15760.0   \nffffd36adf  503966.0  433104.0  362242.0  291380.0  ...  511898.0  441036.0   \n\n                  22        23        24        25        26        27  \\\n7cdfd0e14a  109193.0   26984.0  124175.0  120028.0  663106.0  206184.0   \n23c52f9b50  154352.0   33872.0  515600.0  120028.0  663106.0   39868.0   \n59416738c3  109193.0   26984.0  607025.0  751306.0  780357.0   39868.0   \ne06f0be797  318463.0  289920.0  228450.0  157588.0   86726.0   15864.0   \n49d091aa63  109193.0   26984.0  295700.0  751306.0  599356.0   39868.0   \n...              ...       ...       ...       ...       ...       ...   \n5fdd93fc0c  109193.0   26984.0  124175.0  564080.0  201160.0   57472.0   \n5fdd462bd5  109193.0   26984.0  124175.0  564080.0  201160.0  659076.0   \n5fdc850e43  109193.0   26984.0  124175.0  120028.0  663106.0  206184.0   \n5fdc7f6d2f  391814.0  201504.0  124175.0  564080.0  199086.0  235088.0   \nffffd36adf  370174.0  279208.0  124175.0  157588.0   86726.0   15864.0   \n\n                  28        29  \n7cdfd0e14a  504043.0  292340.0  \n23c52f9b50  184149.0  292340.0  \n59416738c3  184149.0  328430.0  \ne06f0be797  184149.0  112400.0  \n49d091aa63  184149.0  328430.0  \n...              ...       ...  \n5fdd93fc0c  238096.0  112400.0  \n5fdd462bd5  475320.0  112400.0  \n5fdc850e43   89428.0  195960.0  \n5fdc7f6d2f  102722.0  112400.0  \nffffd36adf  504043.0  349010.0  \n\n[161918 rows x 30 columns]",
      "text/html": "<div>\n<style scoped>\n    .dataframe tbody tr th:only-of-type {\n        vertical-align: middle;\n    }\n\n    .dataframe tbody tr th {\n        vertical-align: top;\n    }\n\n    .dataframe thead th {\n        text-align: right;\n    }\n</style>\n<table border=\"1\" class=\"dataframe\">\n  <thead>\n    <tr style=\"text-align: right;\">\n      <th></th>\n      <th>0</th>\n      <th>1</th>\n      <th>2</th>\n      <th>3</th>\n      <th>4</th>\n      <th>5</th>\n      <th>6</th>\n      <th>7</th>\n      <th>8</th>\n      <th>9</th>\n      <th>...</th>\n      <th>20</th>\n      <th>21</th>\n      <th>22</th>\n      <th>23</th>\n      <th>24</th>\n      <th>25</th>\n      <th>26</th>\n      <th>27</th>\n      <th>28</th>\n      <th>29</th>\n    </tr>\n  </thead>\n  <tbody>\n    <tr>\n      <th>7cdfd0e14a</th>\n      <td>543078.0</td>\n      <td>86156.0</td>\n      <td>534901.0</td>\n      <td>172312.0</td>\n      <td>224835.0</td>\n      <td>69802.0</td>\n      <td>424537.0</td>\n      <td>342328.0</td>\n      <td>260119.0</td>\n      <td>177910.0</td>\n      <td>...</td>\n      <td>273611.0</td>\n      <td>191402.0</td>\n      <td>109193.0</td>\n      <td>26984.0</td>\n      <td>124175.0</td>\n      <td>120028.0</td>\n      <td>663106.0</td>\n      <td>206184.0</td>\n      <td>504043.0</td>\n      <td>292340.0</td>\n    </tr>\n    <tr>\n      <th>23c52f9b50</th>\n      <td>144281.0</td>\n      <td>86156.0</td>\n      <td>432843.0</td>\n      <td>172312.0</td>\n      <td>715390.0</td>\n      <td>83744.0</td>\n      <td>9967.0</td>\n      <td>154248.0</td>\n      <td>298529.0</td>\n      <td>430780.0</td>\n      <td>...</td>\n      <td>29901.0</td>\n      <td>174182.0</td>\n      <td>154352.0</td>\n      <td>33872.0</td>\n      <td>515600.0</td>\n      <td>120028.0</td>\n      <td>663106.0</td>\n      <td>39868.0</td>\n      <td>184149.0</td>\n      <td>292340.0</td>\n    </tr>\n    <tr>\n      <th>59416738c3</th>\n      <td>144281.0</td>\n      <td>288562.0</td>\n      <td>432843.0</td>\n      <td>577124.0</td>\n      <td>588955.0</td>\n      <td>506746.0</td>\n      <td>9967.0</td>\n      <td>154248.0</td>\n      <td>260119.0</td>\n      <td>177910.0</td>\n      <td>...</td>\n      <td>29901.0</td>\n      <td>174182.0</td>\n      <td>109193.0</td>\n      <td>26984.0</td>\n      <td>607025.0</td>\n      <td>751306.0</td>\n      <td>780357.0</td>\n      <td>39868.0</td>\n      <td>184149.0</td>\n      <td>328430.0</td>\n    </tr>\n    <tr>\n      <th>e06f0be797</th>\n      <td>16438.0</td>\n      <td>32876.0</td>\n      <td>49314.0</td>\n      <td>65752.0</td>\n      <td>82190.0</td>\n      <td>98628.0</td>\n      <td>9967.0</td>\n      <td>96640.0</td>\n      <td>147942.0</td>\n      <td>164380.0</td>\n      <td>...</td>\n      <td>29901.0</td>\n      <td>15760.0</td>\n      <td>318463.0</td>\n      <td>289920.0</td>\n      <td>228450.0</td>\n      <td>157588.0</td>\n      <td>86726.0</td>\n      <td>15864.0</td>\n      <td>184149.0</td>\n      <td>112400.0</td>\n    </tr>\n    <tr>\n      <th>49d091aa63</th>\n      <td>144281.0</td>\n      <td>288562.0</td>\n      <td>432843.0</td>\n      <td>577124.0</td>\n      <td>259140.0</td>\n      <td>506746.0</td>\n      <td>9967.0</td>\n      <td>154248.0</td>\n      <td>260119.0</td>\n      <td>177910.0</td>\n      <td>...</td>\n      <td>29901.0</td>\n      <td>174182.0</td>\n      <td>109193.0</td>\n      <td>26984.0</td>\n      <td>295700.0</td>\n      <td>751306.0</td>\n      <td>599356.0</td>\n      <td>39868.0</td>\n      <td>184149.0</td>\n      <td>328430.0</td>\n    </tr>\n    <tr>\n      <th>...</th>\n      <td>...</td>\n      <td>...</td>\n      <td>...</td>\n      <td>...</td>\n      <td>...</td>\n      <td>...</td>\n      <td>...</td>\n      <td>...</td>\n      <td>...</td>\n      <td>...</td>\n      <td>...</td>\n      <td>...</td>\n      <td>...</td>\n      <td>...</td>\n      <td>...</td>\n      <td>...</td>\n      <td>...</td>\n      <td>...</td>\n      <td>...</td>\n      <td>...</td>\n      <td>...</td>\n    </tr>\n    <tr>\n      <th>5fdd93fc0c</th>\n      <td>180624.0</td>\n      <td>274160.0</td>\n      <td>534901.0</td>\n      <td>379868.0</td>\n      <td>185400.0</td>\n      <td>69802.0</td>\n      <td>264368.0</td>\n      <td>96640.0</td>\n      <td>260119.0</td>\n      <td>177910.0</td>\n      <td>...</td>\n      <td>273611.0</td>\n      <td>15760.0</td>\n      <td>109193.0</td>\n      <td>26984.0</td>\n      <td>124175.0</td>\n      <td>564080.0</td>\n      <td>201160.0</td>\n      <td>57472.0</td>\n      <td>238096.0</td>\n      <td>112400.0</td>\n    </tr>\n    <tr>\n      <th>5fdd462bd5</th>\n      <td>637080.0</td>\n      <td>274160.0</td>\n      <td>534901.0</td>\n      <td>379868.0</td>\n      <td>185400.0</td>\n      <td>69802.0</td>\n      <td>424537.0</td>\n      <td>96640.0</td>\n      <td>260119.0</td>\n      <td>177910.0</td>\n      <td>...</td>\n      <td>273611.0</td>\n      <td>15760.0</td>\n      <td>109193.0</td>\n      <td>26984.0</td>\n      <td>124175.0</td>\n      <td>564080.0</td>\n      <td>201160.0</td>\n      <td>659076.0</td>\n      <td>475320.0</td>\n      <td>112400.0</td>\n    </tr>\n    <tr>\n      <th>5fdc850e43</th>\n      <td>106532.0</td>\n      <td>86156.0</td>\n      <td>319596.0</td>\n      <td>172312.0</td>\n      <td>224835.0</td>\n      <td>69802.0</td>\n      <td>424537.0</td>\n      <td>342328.0</td>\n      <td>260119.0</td>\n      <td>65320.0</td>\n      <td>...</td>\n      <td>237172.0</td>\n      <td>191402.0</td>\n      <td>109193.0</td>\n      <td>26984.0</td>\n      <td>124175.0</td>\n      <td>120028.0</td>\n      <td>663106.0</td>\n      <td>206184.0</td>\n      <td>89428.0</td>\n      <td>195960.0</td>\n    </tr>\n    <tr>\n      <th>5fdc7f6d2f</th>\n      <td>258396.0</td>\n      <td>274160.0</td>\n      <td>355454.0</td>\n      <td>33584.0</td>\n      <td>185400.0</td>\n      <td>69802.0</td>\n      <td>162726.0</td>\n      <td>67168.0</td>\n      <td>66362.0</td>\n      <td>370800.0</td>\n      <td>...</td>\n      <td>378680.0</td>\n      <td>15760.0</td>\n      <td>391814.0</td>\n      <td>201504.0</td>\n      <td>124175.0</td>\n      <td>564080.0</td>\n      <td>199086.0</td>\n      <td>235088.0</td>\n      <td>102722.0</td>\n      <td>112400.0</td>\n    </tr>\n    <tr>\n      <th>ffffd36adf</th>\n      <td>844967.0</td>\n      <td>689934.0</td>\n      <td>534901.0</td>\n      <td>379868.0</td>\n      <td>224835.0</td>\n      <td>69802.0</td>\n      <td>503966.0</td>\n      <td>433104.0</td>\n      <td>362242.0</td>\n      <td>291380.0</td>\n      <td>...</td>\n      <td>511898.0</td>\n      <td>441036.0</td>\n      <td>370174.0</td>\n      <td>279208.0</td>\n      <td>124175.0</td>\n      <td>157588.0</td>\n      <td>86726.0</td>\n      <td>15864.0</td>\n      <td>504043.0</td>\n      <td>349010.0</td>\n    </tr>\n  </tbody>\n</table>\n<p>161918 rows × 30 columns</p>\n</div>"
     },
     "execution_count": 24,
     "metadata": {},
     "output_type": "execute_result"
    }
   ],
   "source": [
    "signature_matrix\n",
    "#column  indicates hash function index "
   ],
   "metadata": {
    "collapsed": false,
    "ExecuteTime": {
     "end_time": "2023-12-15T17:07:55.244649800Z",
     "start_time": "2023-12-15T17:07:55.100232700Z"
    }
   },
   "id": "fe8a0ab8cd4ad5d6"
  },
  {
   "cell_type": "code",
   "execution_count": 125,
   "outputs": [],
   "source": [
    "def divide_into_bands(signature_matrix, bands):\n",
    "    rows_per_band = signature_matrix.shape[1] // bands\n",
    "    # calculating the number of rows per band\n",
    "    #returning a list to store each band\n",
    "   \n",
    "    #we will be slicing horizontally\n",
    "    return [signature_matrix.iloc[:, i:i + rows_per_band] for i in range(0, signature_matrix.shape[1], rows_per_band)]\n",
    " #stepping by the number of rows per band\n",
    "\n",
    "bands = divide_into_bands(signature_matrix, bands=10)"
   ],
   "metadata": {
    "collapsed": false,
    "ExecuteTime": {
     "end_time": "2023-12-15T18:49:08.072773400Z",
     "start_time": "2023-12-15T18:49:08.060093500Z"
    }
   },
   "id": "cd800ac391d64f57"
  },
  {
   "cell_type": "code",
   "execution_count": 126,
   "outputs": [],
   "source": [
    "def hash_band(band):\n",
    "    #converting every row into a tuple \n",
    "    return band.apply(lambda x: hashing(tuple(x)), axis=1)\n",
    "\n",
    "buckets = [hash_band(band) for band in bands]"
   ],
   "metadata": {
    "collapsed": false,
    "ExecuteTime": {
     "end_time": "2023-12-15T18:49:23.671195900Z",
     "start_time": "2023-12-15T18:49:09.138274500Z"
    }
   },
   "id": "ef4c1468fd12c21a"
  },
  {
   "cell_type": "code",
   "execution_count": 129,
   "outputs": [],
   "source": [
    "def create_and_process_buckets(bands, hashing):\n",
    "    final_buckets = {}\n",
    "    for band in bands:\n",
    "        band_hashes = hash_band(band)\n",
    "        #hashing every band\n",
    "        for index, hash_value in band_hashes.items():\n",
    "            #check if the hash value already exists in the bucket\n",
    "            if hash_value not in final_buckets:\n",
    "                \n",
    "                final_buckets[hash_value] = set()\n",
    "                #add current index into the set of indixes corresponding to said hash value \n",
    "            final_buckets[hash_value].add(index)\n",
    "    return final_buckets\n"
   ],
   "metadata": {
    "collapsed": false,
    "ExecuteTime": {
     "end_time": "2023-12-15T18:51:03.430025Z",
     "start_time": "2023-12-15T18:51:03.401570100Z"
    }
   },
   "id": "d0431066edcb1765"
  },
  {
   "cell_type": "code",
   "execution_count": 159,
   "outputs": [],
   "source": [
    "all_buckets = create_and_process_buckets(bands, hashing)\n",
    "\n"
   ],
   "metadata": {
    "collapsed": false,
    "ExecuteTime": {
     "end_time": "2023-12-15T19:14:18.205319100Z",
     "start_time": "2023-12-15T19:14:02.982290900Z"
    }
   },
   "id": "2b40c9005e50f0e3"
  },
  {
   "cell_type": "code",
   "execution_count": 146,
   "outputs": [
    {
     "data": {
      "text/plain": "['d723737981', '0561f5afd1']"
     },
     "execution_count": 146,
     "metadata": {},
     "output_type": "execute_result"
    }
   ],
   "source": [
    "def similar_users(all_buckets, user_id):\n",
    "    similar_users = {}\n",
    "    total_bucket_counts = {}\n",
    "\n",
    "    #  count the total buckets for each user and find buckets containing the given user\n",
    "    for bucket in all_buckets.values():\n",
    "        for user in bucket:\n",
    "            total_bucket_counts[user] = total_bucket_counts.get(user, 0) + 1\n",
    "        #check if user id already exists in said bucket \n",
    "        if user_id in bucket:\n",
    "            #Add other users in the same bucket to the similar users dictionary\n",
    "            for other_user in bucket:\n",
    "                if other_user != user_id:\n",
    "                    #to make sure we dont put the same user twice\n",
    "                    if other_user not in similar_users:\n",
    "                        similar_users[other_user] = 0\n",
    "                    similar_users[other_user] += 1\n",
    "\n",
    "    # sort similar users based on frequency and then on total number of buckets it is in\n",
    "    sorted_similar_users = sorted(similar_users.items(), key=lambda x: (-x[1], total_bucket_counts[x[0]]))\n",
    "\n",
    "    # return the top two most similar users\n",
    "    return [user[0] for user in sorted_similar_users[:2]]\n",
    "    #similarity is based on their coexistence in the same bucket. if more than 1 hash function has hashed the same users into the same bucket, the users will be similar. the more hash functions that have assigned the users into the similar buckets, the more we will consider them as similar\n",
    "    # if two users have the same similarity score, the function then considers the total number of buckets each user appears in \n",
    "most_similar_users = similar_users(all_buckets, '159dd5e534')\n",
    "most_similar_users\n",
    "\n"
   ],
   "metadata": {
    "collapsed": false,
    "ExecuteTime": {
     "end_time": "2023-12-15T19:01:14.998577800Z",
     "start_time": "2023-12-15T19:01:14.481311Z"
    }
   },
   "id": "a55df2b3b470bb0d"
  },
  {
   "cell_type": "code",
   "execution_count": 147,
   "outputs": [],
   "source": [
    "sim_user1, sim_user2 = most_similar_users\n",
    "\n"
   ],
   "metadata": {
    "collapsed": false,
    "ExecuteTime": {
     "end_time": "2023-12-15T19:01:18.397379100Z",
     "start_time": "2023-12-15T19:01:18.349669100Z"
    }
   },
   "id": "1a44a7285a05310"
  },
  {
   "cell_type": "code",
   "execution_count": 148,
   "outputs": [
    {
     "data": {
      "text/plain": "           user_id    movie_id      title                     genres  clicks\n422194  d723737981  6ba9be3429  Apollo 13  Adventure, Drama, History       1",
      "text/html": "<div>\n<style scoped>\n    .dataframe tbody tr th:only-of-type {\n        vertical-align: middle;\n    }\n\n    .dataframe tbody tr th {\n        vertical-align: top;\n    }\n\n    .dataframe thead th {\n        text-align: right;\n    }\n</style>\n<table border=\"1\" class=\"dataframe\">\n  <thead>\n    <tr style=\"text-align: right;\">\n      <th></th>\n      <th>user_id</th>\n      <th>movie_id</th>\n      <th>title</th>\n      <th>genres</th>\n      <th>clicks</th>\n    </tr>\n  </thead>\n  <tbody>\n    <tr>\n      <th>422194</th>\n      <td>d723737981</td>\n      <td>6ba9be3429</td>\n      <td>Apollo 13</td>\n      <td>Adventure, Drama, History</td>\n      <td>1</td>\n    </tr>\n  </tbody>\n</table>\n</div>"
     },
     "execution_count": 148,
     "metadata": {},
     "output_type": "execute_result"
    }
   ],
   "source": [
    "data_u1 = user_movie_clicks[user_movie_clicks['user_id'] == sim_user1]"
   ],
   "metadata": {
    "collapsed": false,
    "ExecuteTime": {
     "end_time": "2023-12-15T19:01:19.130378700Z",
     "start_time": "2023-12-15T19:01:19.047939600Z"
    }
   },
   "id": "dafc73484fe709e0"
  },
  {
   "cell_type": "code",
   "execution_count": 149,
   "outputs": [
    {
     "data": {
      "text/plain": "          user_id    movie_id       title                     genres  clicks\n10211  0561f5afd1  3ad6a1290a  Goodfellas    Biography, Crime, Drama       1\n10212  0561f5afd1  6ba9be3429   Apollo 13  Adventure, Drama, History       2",
      "text/html": "<div>\n<style scoped>\n    .dataframe tbody tr th:only-of-type {\n        vertical-align: middle;\n    }\n\n    .dataframe tbody tr th {\n        vertical-align: top;\n    }\n\n    .dataframe thead th {\n        text-align: right;\n    }\n</style>\n<table border=\"1\" class=\"dataframe\">\n  <thead>\n    <tr style=\"text-align: right;\">\n      <th></th>\n      <th>user_id</th>\n      <th>movie_id</th>\n      <th>title</th>\n      <th>genres</th>\n      <th>clicks</th>\n    </tr>\n  </thead>\n  <tbody>\n    <tr>\n      <th>10211</th>\n      <td>0561f5afd1</td>\n      <td>3ad6a1290a</td>\n      <td>Goodfellas</td>\n      <td>Biography, Crime, Drama</td>\n      <td>1</td>\n    </tr>\n    <tr>\n      <th>10212</th>\n      <td>0561f5afd1</td>\n      <td>6ba9be3429</td>\n      <td>Apollo 13</td>\n      <td>Adventure, Drama, History</td>\n      <td>2</td>\n    </tr>\n  </tbody>\n</table>\n</div>"
     },
     "execution_count": 149,
     "metadata": {},
     "output_type": "execute_result"
    }
   ],
   "source": [
    "data_u2 = user_movie_clicks[user_movie_clicks['user_id'] == sim_user2]\n"
   ],
   "metadata": {
    "collapsed": false,
    "ExecuteTime": {
     "end_time": "2023-12-15T19:01:19.867286700Z",
     "start_time": "2023-12-15T19:01:19.806710300Z"
    }
   },
   "id": "53155f18c6f58108"
  },
  {
   "cell_type": "code",
   "execution_count": 150,
   "outputs": [
    {
     "name": "stdout",
     "output_type": "stream",
     "text": [
      "{'Goodfellas', 'Apollo 13'}\n"
     ]
    },
    {
     "name": "stderr",
     "output_type": "stream",
     "text": [
      "C:\\Users\\ahmad\\AppData\\Local\\Temp\\ipykernel_15672\\3062258450.py:1: SettingWithCopyWarning: \n",
      "A value is trying to be set on a copy of a slice from a DataFrame.\n",
      "Try using .loc[row_indexer,col_indexer] = value instead\n",
      "\n",
      "See the caveats in the documentation: https://pandas.pydata.org/pandas-docs/stable/user_guide/indexing.html#returning-a-view-versus-a-copy\n",
      "  data_u1['clicks'] = pd.to_numeric(data_u1['clicks'], errors='coerce')\n",
      "C:\\Users\\ahmad\\AppData\\Local\\Temp\\ipykernel_15672\\3062258450.py:2: SettingWithCopyWarning: \n",
      "A value is trying to be set on a copy of a slice from a DataFrame.\n",
      "Try using .loc[row_indexer,col_indexer] = value instead\n",
      "\n",
      "See the caveats in the documentation: https://pandas.pydata.org/pandas-docs/stable/user_guide/indexing.html#returning-a-view-versus-a-copy\n",
      "  data_u2['clicks'] = pd.to_numeric(data_u2['clicks'], errors='coerce')\n"
     ]
    }
   ],
   "source": [
    "data_u1['clicks'] = pd.to_numeric(data_u1['clicks'], errors='coerce')\n",
    "data_u2['clicks'] = pd.to_numeric(data_u2['clicks'], errors='coerce')\n",
    "\n",
    "data_u1 = data_u1.sort_values(by='clicks', ascending=False)\n",
    "data_u2 = data_u2.sort_values(by='clicks', ascending=False)\n",
    "\n",
    "u1_movies = set(data_u1['title'])\n",
    "u2_movies = set(data_u2['title'])\n",
    "\n",
    "common_movies = u1_movies.intersection(u2_movies)\n",
    "top_movie_u1 = data_u1.iloc[0]['title'] if len(data_u1) > 0 else None\n",
    "top_movie_u2 = data_u2.iloc[0]['title'] if len(data_u2) > 0 else None\n",
    "\n",
    "# adjust top movies if they are in common movies\n",
    "if top_movie_u1 in common_movies:\n",
    "    top_movie_u1 = data_u1.iloc[1]['title'] if len(data_u1) > 1 else None\n",
    "if top_movie_u2 in common_movies:\n",
    "    top_movie_u2 = data_u2.iloc[1]['title'] if len(data_u2) > 1 else None\n",
    "\n",
    "# update common movies set\n",
    "common_movies.update([top_movie_u1, top_movie_u2])\n",
    "if None in common_movies:\n",
    "    common_movies.remove(None)\n",
    "print(common_movies)"
   ],
   "metadata": {
    "collapsed": false,
    "ExecuteTime": {
     "end_time": "2023-12-15T19:01:20.814160600Z",
     "start_time": "2023-12-15T19:01:20.799748Z"
    }
   },
   "id": "ee522d2fccf7b2f9"
  }
 ],
 "metadata": {
  "kernelspec": {
   "display_name": "Python 3",
   "language": "python",
   "name": "python3"
  },
  "language_info": {
   "codemirror_mode": {
    "name": "ipython",
    "version": 2
   },
   "file_extension": ".py",
   "mimetype": "text/x-python",
   "name": "python",
   "nbconvert_exporter": "python",
   "pygments_lexer": "ipython2",
   "version": "2.7.6"
  }
 },
 "nbformat": 4,
 "nbformat_minor": 5
}
